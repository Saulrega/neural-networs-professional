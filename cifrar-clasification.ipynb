{
 "cells": [
  {
   "cell_type": "code",
   "execution_count": 1,
   "id": "11994723",
   "metadata": {
    "execution": {
     "iopub.execute_input": "2022-04-09T19:11:41.798517Z",
     "iopub.status.busy": "2022-04-09T19:11:41.790971Z",
     "iopub.status.idle": "2022-04-09T19:11:47.161460Z",
     "shell.execute_reply": "2022-04-09T19:11:47.160467Z",
     "shell.execute_reply.started": "2022-04-09T18:20:24.501840Z"
    },
    "papermill": {
     "duration": 5.398023,
     "end_time": "2022-04-09T19:11:47.161636",
     "exception": false,
     "start_time": "2022-04-09T19:11:41.763613",
     "status": "completed"
    },
    "tags": []
   },
   "outputs": [],
   "source": [
    "from tensorflow import keras\n",
    "from tensorflow.keras.utils import to_categorical\n",
    "from tensorflow.keras import regularizers\n",
    "from tensorflow.keras.models import Sequential\n",
    "from tensorflow.keras.layers import Conv2D,MaxPooling2D, Flatten, Dense, Dropout, Activation, BatchNormalization\n",
    "from tensorflow.keras.datasets import cifar10\n",
    "from tensorflow.keras.preprocessing.image import ImageDataGenerator\n",
    "from tensorflow.keras.callbacks import ModelCheckpoint\n",
    "from tensorflow.keras.preprocessing.image import ImageDataGenerator"
   ]
  },
  {
   "cell_type": "code",
   "execution_count": 2,
   "id": "7f3fa723",
   "metadata": {
    "execution": {
     "iopub.execute_input": "2022-04-09T19:11:47.213266Z",
     "iopub.status.busy": "2022-04-09T19:11:47.212284Z",
     "iopub.status.idle": "2022-04-09T19:11:47.214737Z",
     "shell.execute_reply": "2022-04-09T19:11:47.214173Z",
     "shell.execute_reply.started": "2022-04-09T18:20:24.530447Z"
    },
    "papermill": {
     "duration": 0.028512,
     "end_time": "2022-04-09T19:11:47.214844",
     "exception": false,
     "start_time": "2022-04-09T19:11:47.186332",
     "status": "completed"
    },
    "tags": []
   },
   "outputs": [],
   "source": [
    "import numpy as np\n",
    "import matplotlib.pyplot as plt "
   ]
  },
  {
   "cell_type": "code",
   "execution_count": 3,
   "id": "cd832fa5",
   "metadata": {
    "execution": {
     "iopub.execute_input": "2022-04-09T19:11:47.264156Z",
     "iopub.status.busy": "2022-04-09T19:11:47.263381Z",
     "iopub.status.idle": "2022-04-09T19:12:01.065962Z",
     "shell.execute_reply": "2022-04-09T19:12:01.064978Z",
     "shell.execute_reply.started": "2022-04-09T18:20:24.542411Z"
    },
    "papermill": {
     "duration": 13.828841,
     "end_time": "2022-04-09T19:12:01.066116",
     "exception": false,
     "start_time": "2022-04-09T19:11:47.237275",
     "status": "completed"
    },
    "tags": []
   },
   "outputs": [
    {
     "name": "stdout",
     "output_type": "stream",
     "text": [
      "Downloading data from https://www.cs.toronto.edu/~kriz/cifar-10-python.tar.gz\n",
      "170500096/170498071 [==============================] - 11s 0us/step\n",
      "170508288/170498071 [==============================] - 11s 0us/step\n"
     ]
    }
   ],
   "source": [
    "(x_train, y_train), (x_test, y_test) = cifar10.load_data()"
   ]
  },
  {
   "cell_type": "code",
   "execution_count": 4,
   "id": "0b3e7d5e",
   "metadata": {
    "execution": {
     "iopub.execute_input": "2022-04-09T19:12:01.235918Z",
     "iopub.status.busy": "2022-04-09T19:12:01.235253Z",
     "iopub.status.idle": "2022-04-09T19:12:01.445699Z",
     "shell.execute_reply": "2022-04-09T19:12:01.446478Z",
     "shell.execute_reply.started": "2022-04-09T18:20:25.300503Z"
    },
    "papermill": {
     "duration": 0.30398,
     "end_time": "2022-04-09T19:12:01.446664",
     "exception": false,
     "start_time": "2022-04-09T19:12:01.142684",
     "status": "completed"
    },
    "tags": []
   },
   "outputs": [
    {
     "data": {
      "text/plain": [
       "<matplotlib.image.AxesImage at 0x7f8df107ee10>"
      ]
     },
     "execution_count": 4,
     "metadata": {},
     "output_type": "execute_result"
    },
    {
     "data": {
      "image/png": "[encoded data removed]",
      "text/plain": [
       "<Figure size 432x288 with 1 Axes>"
      ]
     },
     "metadata": {
      "needs_background": "light"
     },
     "output_type": "display_data"
    }
   ],
   "source": [
    "plt.imshow(x_train[1])"
   ]
  },
  {
   "cell_type": "markdown",
   "id": "9d6ad74f",
   "metadata": {
    "papermill": {
     "duration": 0.076493,
     "end_time": "2022-04-09T19:12:01.599593",
     "exception": false,
     "start_time": "2022-04-09T19:12:01.523100",
     "status": "completed"
    },
    "tags": []
   },
   "source": [
    "## Lipieza de datos"
   ]
  },
  {
   "cell_type": "code",
   "execution_count": 5,
   "id": "49aed901",
   "metadata": {
    "execution": {
     "iopub.execute_input": "2022-04-09T19:12:01.755695Z",
     "iopub.status.busy": "2022-04-09T19:12:01.754611Z",
     "iopub.status.idle": "2022-04-09T19:12:02.013990Z",
     "shell.execute_reply": "2022-04-09T19:12:02.013463Z",
     "shell.execute_reply.started": "2022-04-09T18:20:25.492948Z"
    },
    "papermill": {
     "duration": 0.339148,
     "end_time": "2022-04-09T19:12:02.014121",
     "exception": false,
     "start_time": "2022-04-09T19:12:01.674973",
     "status": "completed"
    },
    "tags": []
   },
   "outputs": [],
   "source": [
    "x_train = x_train.astype('float32')/255\n",
    "x_test = x_test.astype('float32')/255"
   ]
  },
  {
   "cell_type": "code",
   "execution_count": 6,
   "id": "1bbdd35a",
   "metadata": {
    "execution": {
     "iopub.execute_input": "2022-04-09T19:12:02.171826Z",
     "iopub.status.busy": "2022-04-09T19:12:02.170894Z",
     "iopub.status.idle": "2022-04-09T19:12:02.176807Z",
     "shell.execute_reply": "2022-04-09T19:12:02.176375Z",
     "shell.execute_reply.started": "2022-04-09T18:20:25.748812Z"
    },
    "papermill": {
     "duration": 0.086198,
     "end_time": "2022-04-09T19:12:02.176915",
     "exception": false,
     "start_time": "2022-04-09T19:12:02.090717",
     "status": "completed"
    },
    "tags": []
   },
   "outputs": [],
   "source": [
    "num_clases = len(np.unique(y_train))\n",
    "y_train = to_categorical(y_train, num_clases)\n",
    "y_test = to_categorical(y_test, num_clases)"
   ]
  },
  {
   "cell_type": "code",
   "execution_count": 7,
   "id": "a50f03bc",
   "metadata": {
    "execution": {
     "iopub.execute_input": "2022-04-09T19:12:02.331321Z",
     "iopub.status.busy": "2022-04-09T19:12:02.330756Z",
     "iopub.status.idle": "2022-04-09T19:12:02.336334Z",
     "shell.execute_reply": "2022-04-09T19:12:02.335888Z",
     "shell.execute_reply.started": "2022-04-09T18:20:25.759613Z"
    },
    "papermill": {
     "duration": 0.084475,
     "end_time": "2022-04-09T19:12:02.336444",
     "exception": false,
     "start_time": "2022-04-09T19:12:02.251969",
     "status": "completed"
    },
    "tags": []
   },
   "outputs": [
    {
     "data": {
      "text/plain": [
       "array([0., 0., 0., 0., 0., 0., 1., 0., 0., 0.], dtype=float32)"
      ]
     },
     "execution_count": 7,
     "metadata": {},
     "output_type": "execute_result"
    }
   ],
   "source": [
    "y_train[0]"
   ]
  },
  {
   "cell_type": "markdown",
   "id": "d16b4653",
   "metadata": {
    "papermill": {
     "duration": 0.075559,
     "end_time": "2022-04-09T19:12:02.488681",
     "exception": false,
     "start_time": "2022-04-09T19:12:02.413122",
     "status": "completed"
    },
    "tags": []
   },
   "source": [
    "## Normalización"
   ]
  },
  {
   "cell_type": "code",
   "execution_count": 8,
   "id": "133827af",
   "metadata": {
    "execution": {
     "iopub.execute_input": "2022-04-09T19:12:02.645287Z",
     "iopub.status.busy": "2022-04-09T19:12:02.644488Z",
     "iopub.status.idle": "2022-04-09T19:12:03.047189Z",
     "shell.execute_reply": "2022-04-09T19:12:03.046649Z",
     "shell.execute_reply.started": "2022-04-09T18:20:25.768613Z"
    },
    "papermill": {
     "duration": 0.482228,
     "end_time": "2022-04-09T19:12:03.047332",
     "exception": false,
     "start_time": "2022-04-09T19:12:02.565104",
     "status": "completed"
    },
    "tags": []
   },
   "outputs": [],
   "source": [
    "mean = np.mean(x_train)\n",
    "std = np.std(x_train)"
   ]
  },
  {
   "cell_type": "code",
   "execution_count": 9,
   "id": "514436f6",
   "metadata": {
    "execution": {
     "iopub.execute_input": "2022-04-09T19:12:03.204198Z",
     "iopub.status.busy": "2022-04-09T19:12:03.201994Z",
     "iopub.status.idle": "2022-04-09T19:12:03.496120Z",
     "shell.execute_reply": "2022-04-09T19:12:03.495603Z",
     "shell.execute_reply.started": "2022-04-09T18:20:26.300237Z"
    },
    "papermill": {
     "duration": 0.372764,
     "end_time": "2022-04-09T19:12:03.496272",
     "exception": false,
     "start_time": "2022-04-09T19:12:03.123508",
     "status": "completed"
    },
    "tags": []
   },
   "outputs": [],
   "source": [
    "x_train = (x_train - mean) / (std+1e-7)\n",
    "x_test = (x_test - mean) / (std+1e-7)"
   ]
  },
  {
   "cell_type": "markdown",
   "id": "7391b4e4",
   "metadata": {
    "papermill": {
     "duration": 0.07551,
     "end_time": "2022-04-09T19:12:03.647811",
     "exception": false,
     "start_time": "2022-04-09T19:12:03.572301",
     "status": "completed"
    },
    "tags": []
   },
   "source": [
    "## Set de datos"
   ]
  },
  {
   "cell_type": "code",
   "execution_count": 10,
   "id": "a1352656",
   "metadata": {
    "execution": {
     "iopub.execute_input": "2022-04-09T19:12:03.805707Z",
     "iopub.status.busy": "2022-04-09T19:12:03.804992Z",
     "iopub.status.idle": "2022-04-09T19:12:03.807640Z",
     "shell.execute_reply": "2022-04-09T19:12:03.807193Z",
     "shell.execute_reply.started": "2022-04-09T18:20:26.653796Z"
    },
    "papermill": {
     "duration": 0.084123,
     "end_time": "2022-04-09T19:12:03.807751",
     "exception": false,
     "start_time": "2022-04-09T19:12:03.723628",
     "status": "completed"
    },
    "tags": []
   },
   "outputs": [],
   "source": [
    "(x_train, x_valid) = x_train[5000:], x_train[:5000]\n",
    "(y_train, y_valid) = y_train[5000:], y_train[:5000]"
   ]
  },
  {
   "cell_type": "markdown",
   "id": "2af6cfe4",
   "metadata": {
    "papermill": {
     "duration": 0.075223,
     "end_time": "2022-04-09T19:12:03.959360",
     "exception": false,
     "start_time": "2022-04-09T19:12:03.884137",
     "status": "completed"
    },
    "tags": []
   },
   "source": [
    "## Creación modelo convolucional"
   ]
  },
  {
   "cell_type": "code",
   "execution_count": 11,
   "id": "7770f43f",
   "metadata": {
    "execution": {
     "iopub.execute_input": "2022-04-09T19:12:04.116000Z",
     "iopub.status.busy": "2022-04-09T19:12:04.115156Z",
     "iopub.status.idle": "2022-04-09T19:12:04.117322Z",
     "shell.execute_reply": "2022-04-09T19:12:04.117704Z",
     "shell.execute_reply.started": "2022-04-09T18:20:26.662557Z"
    },
    "papermill": {
     "duration": 0.082557,
     "end_time": "2022-04-09T19:12:04.117833",
     "exception": false,
     "start_time": "2022-04-09T19:12:04.035276",
     "status": "completed"
    },
    "tags": []
   },
   "outputs": [],
   "source": [
    "base_filtros = 32\n",
    "w_regularaizer = 1e-4"
   ]
  },
  {
   "cell_type": "code",
   "execution_count": 12,
   "id": "35c012f8",
   "metadata": {
    "execution": {
     "iopub.execute_input": "2022-04-09T19:12:04.277539Z",
     "iopub.status.busy": "2022-04-09T19:12:04.276761Z",
     "iopub.status.idle": "2022-04-09T19:12:06.965291Z",
     "shell.execute_reply": "2022-04-09T19:12:06.965715Z",
     "shell.execute_reply.started": "2022-04-09T18:20:26.675131Z"
    },
    "papermill": {
     "duration": 2.77182,
     "end_time": "2022-04-09T19:12:06.965859",
     "exception": false,
     "start_time": "2022-04-09T19:12:04.194039",
     "status": "completed"
    },
    "tags": []
   },
   "outputs": [
    {
     "name": "stdout",
     "output_type": "stream",
     "text": [
      "Model: \"sequential\"\n",
      "_________________________________________________________________\n",
      "Layer (type)                 Output Shape              Param #   \n",
      "=================================================================\n",
      "conv2d (Conv2D)              (None, 32, 32, 32)        896       \n",
      "_________________________________________________________________\n",
      "activation (Activation)      (None, 32, 32, 32)        0         \n",
      "_________________________________________________________________\n",
      "batch_normalization (BatchNo (None, 32, 32, 32)        128       \n",
      "_________________________________________________________________\n",
      "conv2d_1 (Conv2D)            (None, 32, 32, 32)        9248      \n",
      "_________________________________________________________________\n",
      "activation_1 (Activation)    (None, 32, 32, 32)        0         \n",
      "_________________________________________________________________\n",
      "batch_normalization_1 (Batch (None, 32, 32, 32)        128       \n",
      "_________________________________________________________________\n",
      "max_pooling2d (MaxPooling2D) (None, 16, 16, 32)        0         \n",
      "_________________________________________________________________\n",
      "dropout (Dropout)            (None, 16, 16, 32)        0         \n",
      "_________________________________________________________________\n",
      "conv2d_2 (Conv2D)            (None, 16, 16, 64)        18496     \n",
      "_________________________________________________________________\n",
      "activation_2 (Activation)    (None, 16, 16, 64)        0         \n",
      "_________________________________________________________________\n",
      "batch_normalization_2 (Batch (None, 16, 16, 64)        256       \n",
      "_________________________________________________________________\n",
      "dropout_1 (Dropout)          (None, 16, 16, 64)        0         \n",
      "_________________________________________________________________\n",
      "conv2d_3 (Conv2D)            (None, 16, 16, 64)        36928     \n",
      "_________________________________________________________________\n",
      "activation_3 (Activation)    (None, 16, 16, 64)        0         \n",
      "_________________________________________________________________\n",
      "batch_normalization_3 (Batch (None, 16, 16, 64)        256       \n",
      "_________________________________________________________________\n",
      "max_pooling2d_1 (MaxPooling2 (None, 8, 8, 64)          0         \n",
      "_________________________________________________________________\n",
      "dropout_2 (Dropout)          (None, 8, 8, 64)          0         \n",
      "_________________________________________________________________\n",
      "conv2d_4 (Conv2D)            (None, 8, 8, 128)         73856     \n",
      "_________________________________________________________________\n",
      "activation_4 (Activation)    (None, 8, 8, 128)         0         \n",
      "_________________________________________________________________\n",
      "batch_normalization_4 (Batch (None, 8, 8, 128)         512       \n",
      "_________________________________________________________________\n",
      "conv2d_5 (Conv2D)            (None, 8, 8, 128)         147584    \n",
      "_________________________________________________________________\n",
      "activation_5 (Activation)    (None, 8, 8, 128)         0         \n",
      "_________________________________________________________________\n",
      "batch_normalization_5 (Batch (None, 8, 8, 128)         512       \n",
      "_________________________________________________________________\n",
      "max_pooling2d_2 (MaxPooling2 (None, 4, 4, 128)         0         \n",
      "_________________________________________________________________\n",
      "dropout_3 (Dropout)          (None, 4, 4, 128)         0         \n",
      "_________________________________________________________________\n",
      "flatten (Flatten)            (None, 2048)              0         \n",
      "_________________________________________________________________\n",
      "dense (Dense)                (None, 10)                20490     \n",
      "=================================================================\n",
      "Total params: 309,290\n",
      "Trainable params: 308,394\n",
      "Non-trainable params: 896\n",
      "_________________________________________________________________\n"
     ]
    },
    {
     "name": "stderr",
     "output_type": "stream",
     "text": [
      "2022-04-09 19:12:04.355642: I tensorflow/stream_executor/cuda/cuda_gpu_executor.cc:937] successful NUMA node read from SysFS had negative value (-1), but there must be at least one NUMA node, so returning NUMA node zero\n",
      "2022-04-09 19:12:04.455344: I tensorflow/stream_executor/cuda/cuda_gpu_executor.cc:937] successful NUMA node read from SysFS had negative value (-1), but there must be at least one NUMA node, so returning NUMA node zero\n",
      "2022-04-09 19:12:04.456037: I tensorflow/stream_executor/cuda/cuda_gpu_executor.cc:937] successful NUMA node read from SysFS had negative value (-1), but there must be at least one NUMA node, so returning NUMA node zero\n",
      "2022-04-09 19:12:04.457376: I tensorflow/core/platform/cpu_feature_guard.cc:142] This TensorFlow binary is optimized with oneAPI Deep Neural Network Library (oneDNN) to use the following CPU instructions in performance-critical operations:  AVX2 AVX512F FMA\n",
      "To enable them in other operations, rebuild TensorFlow with the appropriate compiler flags.\n",
      "2022-04-09 19:12:04.458465: I tensorflow/stream_executor/cuda/cuda_gpu_executor.cc:937] successful NUMA node read from SysFS had negative value (-1), but there must be at least one NUMA node, so returning NUMA node zero\n",
      "2022-04-09 19:12:04.459394: I tensorflow/stream_executor/cuda/cuda_gpu_executor.cc:937] successful NUMA node read from SysFS had negative value (-1), but there must be at least one NUMA node, so returning NUMA node zero\n",
      "2022-04-09 19:12:04.460282: I tensorflow/stream_executor/cuda/cuda_gpu_executor.cc:937] successful NUMA node read from SysFS had negative value (-1), but there must be at least one NUMA node, so returning NUMA node zero\n",
      "2022-04-09 19:12:06.454359: I tensorflow/stream_executor/cuda/cuda_gpu_executor.cc:937] successful NUMA node read from SysFS had negative value (-1), but there must be at least one NUMA node, so returning NUMA node zero\n",
      "2022-04-09 19:12:06.455332: I tensorflow/stream_executor/cuda/cuda_gpu_executor.cc:937] successful NUMA node read from SysFS had negative value (-1), but there must be at least one NUMA node, so returning NUMA node zero\n",
      "2022-04-09 19:12:06.456151: I tensorflow/stream_executor/cuda/cuda_gpu_executor.cc:937] successful NUMA node read from SysFS had negative value (-1), but there must be at least one NUMA node, so returning NUMA node zero\n",
      "2022-04-09 19:12:06.456942: I tensorflow/core/common_runtime/gpu/gpu_device.cc:1510] Created device /job:localhost/replica:0/task:0/device:GPU:0 with 15403 MB memory:  -> device: 0, name: Tesla P100-PCIE-16GB, pci bus id: 0000:00:04.0, compute capability: 6.0\n"
     ]
    }
   ],
   "source": [
    "model = Sequential()\n",
    "##Conv 1 x_\n",
    "model.add(Conv2D(base_filtros, (3,3), padding='same', kernel_regularizer=regularizers.l2(w_regularaizer), input_shape=x_train.shape[1:]))\n",
    "model.add(Activation('relu'))\n",
    "model.add(BatchNormalization())\n",
    "\n",
    "#Conv 2\n",
    "model.add(Conv2D(base_filtros, (3,3), padding='same', kernel_regularizer=regularizers.l2(w_regularaizer)))\n",
    "model.add(Activation('relu'))\n",
    "model.add(BatchNormalization())\n",
    "model.add(MaxPooling2D(pool_size=(2,2)))\n",
    "model.add(Dropout(.2))\n",
    "\n",
    "#Conv 3\n",
    "model.add(Conv2D(2*base_filtros, (3,3), padding='same', kernel_regularizer=regularizers.l2(w_regularaizer)))\n",
    "model.add(Activation('relu'))\n",
    "model.add(BatchNormalization())\n",
    "model.add(Dropout(.2))\n",
    "\n",
    "#Conv 4\n",
    "model.add(Conv2D(2*base_filtros, (3,3), padding='same', kernel_regularizer=regularizers.l2(w_regularaizer)))\n",
    "model.add(Activation('relu'))\n",
    "model.add(BatchNormalization())\n",
    "model.add(MaxPooling2D(pool_size=(2,2)))\n",
    "model.add(Dropout(.4))\n",
    "\n",
    "#Conv 5\n",
    "model.add(Conv2D(4*base_filtros, (3,3), padding='same', kernel_regularizer=regularizers.l2(w_regularaizer)))\n",
    "model.add(Activation('relu'))\n",
    "model.add(BatchNormalization())\n",
    "\n",
    "\n",
    "#Conv 4\n",
    "model.add(Conv2D(4*base_filtros, (3,3), padding='same', kernel_regularizer=regularizers.l2(w_regularaizer)))\n",
    "model.add(Activation('relu'))\n",
    "model.add(BatchNormalization())\n",
    "model.add(MaxPooling2D(pool_size=(2,2)))\n",
    "model.add(Dropout(.4))\n",
    "\n",
    "## Clasificacion - Flatten\n",
    "model.add(Flatten())\n",
    "model.add(Dense(num_clases, activation='softmax'))\n",
    "model.summary()"
   ]
  },
  {
   "cell_type": "markdown",
   "id": "be2ec90a",
   "metadata": {
    "papermill": {
     "duration": 0.077983,
     "end_time": "2022-04-09T19:12:07.122106",
     "exception": false,
     "start_time": "2022-04-09T19:12:07.044123",
     "status": "completed"
    },
    "tags": []
   },
   "source": [
    "## Data augmentation"
   ]
  },
  {
   "cell_type": "code",
   "execution_count": 13,
   "id": "ef7f604e",
   "metadata": {
    "execution": {
     "iopub.execute_input": "2022-04-09T19:12:07.281221Z",
     "iopub.status.busy": "2022-04-09T19:12:07.279693Z",
     "iopub.status.idle": "2022-04-09T19:12:07.281854Z",
     "shell.execute_reply": "2022-04-09T19:12:07.282317Z",
     "shell.execute_reply.started": "2022-04-09T18:20:26.849832Z"
    },
    "papermill": {
     "duration": 0.083064,
     "end_time": "2022-04-09T19:12:07.282455",
     "exception": false,
     "start_time": "2022-04-09T19:12:07.199391",
     "status": "completed"
    },
    "tags": []
   },
   "outputs": [],
   "source": [
    "datagen = ImageDataGenerator(rotation_range=15,\n",
    "                  width_shift_range=0.1,\n",
    "                  height_shift_range=0.1,\n",
    "                  horizontal_flip=True,\n",
    "                  vertical_flip=True)"
   ]
  },
  {
   "cell_type": "markdown",
   "id": "4c601fb1",
   "metadata": {
    "papermill": {
     "duration": 0.077281,
     "end_time": "2022-04-09T19:12:07.435730",
     "exception": false,
     "start_time": "2022-04-09T19:12:07.358449",
     "status": "completed"
    },
    "tags": []
   },
   "source": [
    "## Entrenamiento modelo"
   ]
  },
  {
   "cell_type": "code",
   "execution_count": 14,
   "id": "afc8915b",
   "metadata": {
    "execution": {
     "iopub.execute_input": "2022-04-09T19:12:07.592499Z",
     "iopub.status.busy": "2022-04-09T19:12:07.591595Z",
     "iopub.status.idle": "2022-04-09T19:12:07.593682Z",
     "shell.execute_reply": "2022-04-09T19:12:07.594042Z",
     "shell.execute_reply.started": "2022-04-09T18:20:26.856421Z"
    },
    "papermill": {
     "duration": 0.082308,
     "end_time": "2022-04-09T19:12:07.594176",
     "exception": false,
     "start_time": "2022-04-09T19:12:07.511868",
     "status": "completed"
    },
    "tags": []
   },
   "outputs": [],
   "source": [
    "from tensorflow.keras import optimizers"
   ]
  },
  {
   "cell_type": "code",
   "execution_count": 15,
   "id": "36a34e17",
   "metadata": {
    "execution": {
     "iopub.execute_input": "2022-04-09T19:12:07.756563Z",
     "iopub.status.busy": "2022-04-09T19:12:07.755790Z",
     "iopub.status.idle": "2022-04-09T19:12:07.762394Z",
     "shell.execute_reply": "2022-04-09T19:12:07.761843Z",
     "shell.execute_reply.started": "2022-04-09T18:20:26.866640Z"
    },
    "papermill": {
     "duration": 0.091495,
     "end_time": "2022-04-09T19:12:07.762508",
     "exception": false,
     "start_time": "2022-04-09T19:12:07.671013",
     "status": "completed"
    },
    "tags": []
   },
   "outputs": [],
   "source": [
    "model.compile(loss='categorical_crossentropy', optimizer=optimizers.Adam(), \n",
    "              metrics=['accuracy'])"
   ]
  },
  {
   "cell_type": "code",
   "execution_count": 16,
   "id": "094106f6",
   "metadata": {
    "execution": {
     "iopub.execute_input": "2022-04-09T19:12:07.920355Z",
     "iopub.status.busy": "2022-04-09T19:12:07.918832Z",
     "iopub.status.idle": "2022-04-09T19:12:07.920959Z",
     "shell.execute_reply": "2022-04-09T19:12:07.921403Z",
     "shell.execute_reply.started": "2022-04-09T18:20:26.884041Z"
    },
    "papermill": {
     "duration": 0.082511,
     "end_time": "2022-04-09T19:12:07.921529",
     "exception": false,
     "start_time": "2022-04-09T19:12:07.839018",
     "status": "completed"
    },
    "tags": []
   },
   "outputs": [],
   "source": [
    "# hist = model.fit(x_train, y_train, batch_size=32, epochs=10, \n",
    "#                  validation_data=(x_valid, y_valid),\n",
    "#                  verbose=2, shuffle=True\n",
    "#                 )"
   ]
  },
  {
   "cell_type": "code",
   "execution_count": 17,
   "id": "5d00c7c8",
   "metadata": {
    "execution": {
     "iopub.execute_input": "2022-04-09T19:12:08.080312Z",
     "iopub.status.busy": "2022-04-09T19:12:08.079578Z",
     "iopub.status.idle": "2022-04-09T19:12:08.081990Z",
     "shell.execute_reply": "2022-04-09T19:12:08.081557Z",
     "shell.execute_reply.started": "2022-04-09T18:20:26.891371Z"
    },
    "papermill": {
     "duration": 0.083221,
     "end_time": "2022-04-09T19:12:08.082109",
     "exception": false,
     "start_time": "2022-04-09T19:12:07.998888",
     "status": "completed"
    },
    "tags": []
   },
   "outputs": [],
   "source": [
    "checkpoint = ModelCheckpoint('mi_mejor_modelo.hdf5', verbose=1, save_best_only=True, \n",
    "                             monitor='val_accuracy')"
   ]
  },
  {
   "cell_type": "code",
   "execution_count": 18,
   "id": "335b10fd",
   "metadata": {
    "execution": {
     "iopub.execute_input": "2022-04-09T19:12:08.240190Z",
     "iopub.status.busy": "2022-04-09T19:12:08.239579Z",
     "iopub.status.idle": "2022-04-09T20:05:12.921661Z",
     "shell.execute_reply": "2022-04-09T20:05:12.922035Z",
     "shell.execute_reply.started": "2022-04-09T18:21:19.993538Z"
    },
    "papermill": {
     "duration": 3184.763409,
     "end_time": "2022-04-09T20:05:12.922194",
     "exception": false,
     "start_time": "2022-04-09T19:12:08.158785",
     "status": "completed"
    },
    "tags": []
   },
   "outputs": [
    {
     "name": "stderr",
     "output_type": "stream",
     "text": [
      "2022-04-09 19:12:08.363751: I tensorflow/compiler/mlir/mlir_graph_optimization_pass.cc:185] None of the MLIR Optimization Passes are enabled (registered 2)\n"
     ]
    },
    {
     "name": "stdout",
     "output_type": "stream",
     "text": [
      "Epoch 1/120\n"
     ]
    },
    {
     "name": "stderr",
     "output_type": "stream",
     "text": [
      "2022-04-09 19:12:10.222156: I tensorflow/stream_executor/cuda/cuda_dnn.cc:369] Loaded cuDNN version 8005\n"
     ]
    },
    {
     "name": "stdout",
     "output_type": "stream",
     "text": [
      "351/351 - 29s - loss: 2.2522 - accuracy: 0.3168 - val_loss: 2.3454 - val_accuracy: 0.2730\n",
      "\n",
      "Epoch 00001: val_accuracy improved from -inf to 0.27300, saving model to mi_mejor_modelo.hdf5\n",
      "Epoch 2/120\n",
      "351/351 - 21s - loss: 1.7518 - accuracy: 0.4234 - val_loss: 1.5497 - val_accuracy: 0.4612\n",
      "\n",
      "Epoch 00002: val_accuracy improved from 0.27300 to 0.46120, saving model to mi_mejor_modelo.hdf5\n",
      "Epoch 3/120\n",
      "351/351 - 21s - loss: 1.5636 - accuracy: 0.4903 - val_loss: 1.5033 - val_accuracy: 0.5150\n",
      "\n",
      "Epoch 00003: val_accuracy improved from 0.46120 to 0.51500, saving model to mi_mejor_modelo.hdf5\n",
      "Epoch 4/120\n",
      "351/351 - 21s - loss: 1.4266 - accuracy: 0.5379 - val_loss: 1.3377 - val_accuracy: 0.5568\n",
      "\n",
      "Epoch 00004: val_accuracy improved from 0.51500 to 0.55680, saving model to mi_mejor_modelo.hdf5\n",
      "Epoch 5/120\n",
      "351/351 - 21s - loss: 1.3366 - accuracy: 0.5665 - val_loss: 1.3008 - val_accuracy: 0.5866\n",
      "\n",
      "Epoch 00005: val_accuracy improved from 0.55680 to 0.58660, saving model to mi_mejor_modelo.hdf5\n",
      "Epoch 6/120\n",
      "351/351 - 20s - loss: 1.2657 - accuracy: 0.5872 - val_loss: 1.3886 - val_accuracy: 0.5728\n",
      "\n",
      "Epoch 00006: val_accuracy did not improve from 0.58660\n",
      "Epoch 7/120\n",
      "351/351 - 20s - loss: 1.2004 - accuracy: 0.6072 - val_loss: 1.0808 - val_accuracy: 0.6624\n",
      "\n",
      "Epoch 00007: val_accuracy improved from 0.58660 to 0.66240, saving model to mi_mejor_modelo.hdf5\n",
      "Epoch 8/120\n",
      "351/351 - 21s - loss: 1.1345 - accuracy: 0.6287 - val_loss: 1.1410 - val_accuracy: 0.6320\n",
      "\n",
      "Epoch 00008: val_accuracy did not improve from 0.66240\n",
      "Epoch 9/120\n",
      "351/351 - 21s - loss: 1.0886 - accuracy: 0.6439 - val_loss: 1.1404 - val_accuracy: 0.6580\n",
      "\n",
      "Epoch 00009: val_accuracy did not improve from 0.66240\n",
      "Epoch 10/120\n",
      "351/351 - 21s - loss: 1.0706 - accuracy: 0.6494 - val_loss: 1.1704 - val_accuracy: 0.6718\n",
      "\n",
      "Epoch 00010: val_accuracy improved from 0.66240 to 0.67180, saving model to mi_mejor_modelo.hdf5\n",
      "Epoch 11/120\n",
      "351/351 - 20s - loss: 1.0417 - accuracy: 0.6601 - val_loss: 1.0414 - val_accuracy: 0.6694\n",
      "\n",
      "Epoch 00011: val_accuracy did not improve from 0.67180\n",
      "Epoch 12/120\n",
      "351/351 - 21s - loss: 1.0111 - accuracy: 0.6711 - val_loss: 1.0716 - val_accuracy: 0.6684\n",
      "\n",
      "Epoch 00012: val_accuracy did not improve from 0.67180\n",
      "Epoch 13/120\n",
      "351/351 - 21s - loss: 0.9844 - accuracy: 0.6814 - val_loss: 0.9773 - val_accuracy: 0.6972\n",
      "\n",
      "Epoch 00013: val_accuracy improved from 0.67180 to 0.69720, saving model to mi_mejor_modelo.hdf5\n",
      "Epoch 14/120\n",
      "351/351 - 21s - loss: 0.9682 - accuracy: 0.6857 - val_loss: 0.9027 - val_accuracy: 0.7150\n",
      "\n",
      "Epoch 00014: val_accuracy improved from 0.69720 to 0.71500, saving model to mi_mejor_modelo.hdf5\n",
      "Epoch 15/120\n",
      "351/351 - 21s - loss: 0.9510 - accuracy: 0.6914 - val_loss: 0.8761 - val_accuracy: 0.7228\n",
      "\n",
      "Epoch 00015: val_accuracy improved from 0.71500 to 0.72280, saving model to mi_mejor_modelo.hdf5\n",
      "Epoch 16/120\n",
      "351/351 - 20s - loss: 0.9372 - accuracy: 0.6951 - val_loss: 0.9200 - val_accuracy: 0.7136\n",
      "\n",
      "Epoch 00016: val_accuracy did not improve from 0.72280\n",
      "Epoch 17/120\n",
      "351/351 - 21s - loss: 0.9230 - accuracy: 0.7056 - val_loss: 0.8207 - val_accuracy: 0.7462\n",
      "\n",
      "Epoch 00017: val_accuracy improved from 0.72280 to 0.74620, saving model to mi_mejor_modelo.hdf5\n",
      "Epoch 18/120\n",
      "351/351 - 20s - loss: 0.9134 - accuracy: 0.7123 - val_loss: 1.0080 - val_accuracy: 0.6926\n",
      "\n",
      "Epoch 00018: val_accuracy did not improve from 0.74620\n",
      "Epoch 19/120\n",
      "351/351 - 21s - loss: 0.8985 - accuracy: 0.7144 - val_loss: 0.8774 - val_accuracy: 0.7314\n",
      "\n",
      "Epoch 00019: val_accuracy did not improve from 0.74620\n",
      "Epoch 20/120\n",
      "351/351 - 20s - loss: 0.8902 - accuracy: 0.7198 - val_loss: 0.7996 - val_accuracy: 0.7570\n",
      "\n",
      "Epoch 00020: val_accuracy improved from 0.74620 to 0.75700, saving model to mi_mejor_modelo.hdf5\n",
      "Epoch 21/120\n",
      "351/351 - 21s - loss: 0.8797 - accuracy: 0.7237 - val_loss: 0.9170 - val_accuracy: 0.7226\n",
      "\n",
      "Epoch 00021: val_accuracy did not improve from 0.75700\n",
      "Epoch 22/120\n",
      "351/351 - 20s - loss: 0.8680 - accuracy: 0.7286 - val_loss: 0.8238 - val_accuracy: 0.7488\n",
      "\n",
      "Epoch 00022: val_accuracy did not improve from 0.75700\n",
      "Epoch 23/120\n",
      "351/351 - 21s - loss: 0.8620 - accuracy: 0.7312 - val_loss: 0.8762 - val_accuracy: 0.7314\n",
      "\n",
      "Epoch 00023: val_accuracy did not improve from 0.75700\n",
      "Epoch 24/120\n",
      "351/351 - 20s - loss: 0.8521 - accuracy: 0.7364 - val_loss: 0.8564 - val_accuracy: 0.7510\n",
      "\n",
      "Epoch 00024: val_accuracy did not improve from 0.75700\n",
      "Epoch 25/120\n",
      "351/351 - 20s - loss: 0.8501 - accuracy: 0.7365 - val_loss: 0.7819 - val_accuracy: 0.7666\n",
      "\n",
      "Epoch 00025: val_accuracy improved from 0.75700 to 0.76660, saving model to mi_mejor_modelo.hdf5\n",
      "Epoch 26/120\n",
      "351/351 - 21s - loss: 0.8443 - accuracy: 0.7401 - val_loss: 0.7563 - val_accuracy: 0.7730\n",
      "\n",
      "Epoch 00026: val_accuracy improved from 0.76660 to 0.77300, saving model to mi_mejor_modelo.hdf5\n",
      "Epoch 27/120\n",
      "351/351 - 21s - loss: 0.8356 - accuracy: 0.7433 - val_loss: 0.7955 - val_accuracy: 0.7596\n",
      "\n",
      "Epoch 00027: val_accuracy did not improve from 0.77300\n",
      "Epoch 28/120\n",
      "351/351 - 20s - loss: 0.8345 - accuracy: 0.7438 - val_loss: 0.8132 - val_accuracy: 0.7572\n",
      "\n",
      "Epoch 00028: val_accuracy did not improve from 0.77300\n",
      "Epoch 29/120\n",
      "351/351 - 21s - loss: 0.8252 - accuracy: 0.7476 - val_loss: 0.8500 - val_accuracy: 0.7484\n",
      "\n",
      "Epoch 00029: val_accuracy did not improve from 0.77300\n",
      "Epoch 30/120\n",
      "351/351 - 20s - loss: 0.8272 - accuracy: 0.7488 - val_loss: 0.7881 - val_accuracy: 0.7756\n",
      "\n",
      "Epoch 00030: val_accuracy improved from 0.77300 to 0.77560, saving model to mi_mejor_modelo.hdf5\n",
      "Epoch 31/120\n",
      "351/351 - 20s - loss: 0.8219 - accuracy: 0.7486 - val_loss: 0.8103 - val_accuracy: 0.7676\n",
      "\n",
      "Epoch 00031: val_accuracy did not improve from 0.77560\n",
      "Epoch 32/120\n",
      "351/351 - 20s - loss: 0.8215 - accuracy: 0.7518 - val_loss: 0.8027 - val_accuracy: 0.7692\n",
      "\n",
      "Epoch 00032: val_accuracy did not improve from 0.77560\n",
      "Epoch 33/120\n",
      "351/351 - 21s - loss: 0.8110 - accuracy: 0.7541 - val_loss: 0.7598 - val_accuracy: 0.7750\n",
      "\n",
      "Epoch 00033: val_accuracy did not improve from 0.77560\n",
      "Epoch 34/120\n",
      "351/351 - 20s - loss: 0.8072 - accuracy: 0.7565 - val_loss: 0.7996 - val_accuracy: 0.7672\n",
      "\n",
      "Epoch 00034: val_accuracy did not improve from 0.77560\n",
      "Epoch 35/120\n",
      "351/351 - 21s - loss: 0.8078 - accuracy: 0.7567 - val_loss: 0.7744 - val_accuracy: 0.7760\n",
      "\n",
      "Epoch 00035: val_accuracy improved from 0.77560 to 0.77600, saving model to mi_mejor_modelo.hdf5\n",
      "Epoch 36/120\n",
      "351/351 - 20s - loss: 0.8025 - accuracy: 0.7592 - val_loss: 0.7429 - val_accuracy: 0.7828\n",
      "\n",
      "Epoch 00036: val_accuracy improved from 0.77600 to 0.78280, saving model to mi_mejor_modelo.hdf5\n",
      "Epoch 37/120\n",
      "351/351 - 21s - loss: 0.7992 - accuracy: 0.7635 - val_loss: 0.6914 - val_accuracy: 0.8046\n",
      "\n",
      "Epoch 00037: val_accuracy improved from 0.78280 to 0.80460, saving model to mi_mejor_modelo.hdf5\n",
      "Epoch 38/120\n",
      "351/351 - 20s - loss: 0.7970 - accuracy: 0.7633 - val_loss: 0.7144 - val_accuracy: 0.7988\n",
      "\n",
      "Epoch 00038: val_accuracy did not improve from 0.80460\n",
      "Epoch 39/120\n",
      "351/351 - 20s - loss: 0.7932 - accuracy: 0.7640 - val_loss: 0.7445 - val_accuracy: 0.7854\n",
      "\n",
      "Epoch 00039: val_accuracy did not improve from 0.80460\n",
      "Epoch 40/120\n",
      "351/351 - 21s - loss: 0.7905 - accuracy: 0.7640 - val_loss: 0.7794 - val_accuracy: 0.7826\n",
      "\n",
      "Epoch 00040: val_accuracy did not improve from 0.80460\n",
      "Epoch 41/120\n",
      "351/351 - 20s - loss: 0.7923 - accuracy: 0.7641 - val_loss: 0.7506 - val_accuracy: 0.7846\n",
      "\n",
      "Epoch 00041: val_accuracy did not improve from 0.80460\n",
      "Epoch 42/120\n",
      "351/351 - 20s - loss: 0.7886 - accuracy: 0.7681 - val_loss: 0.7620 - val_accuracy: 0.7818\n",
      "\n",
      "Epoch 00042: val_accuracy did not improve from 0.80460\n",
      "Epoch 43/120\n",
      "351/351 - 20s - loss: 0.7897 - accuracy: 0.7676 - val_loss: 0.6815 - val_accuracy: 0.8108\n",
      "\n",
      "Epoch 00043: val_accuracy improved from 0.80460 to 0.81080, saving model to mi_mejor_modelo.hdf5\n",
      "Epoch 44/120\n",
      "351/351 - 20s - loss: 0.7833 - accuracy: 0.7682 - val_loss: 0.7576 - val_accuracy: 0.7874\n",
      "\n",
      "Epoch 00044: val_accuracy did not improve from 0.81080\n",
      "Epoch 45/120\n",
      "351/351 - 20s - loss: 0.7773 - accuracy: 0.7695 - val_loss: 0.8074 - val_accuracy: 0.7712\n",
      "\n",
      "Epoch 00045: val_accuracy did not improve from 0.81080\n",
      "Epoch 46/120\n",
      "351/351 - 21s - loss: 0.7760 - accuracy: 0.7711 - val_loss: 0.7219 - val_accuracy: 0.7956\n",
      "\n",
      "Epoch 00046: val_accuracy did not improve from 0.81080\n",
      "Epoch 47/120\n",
      "351/351 - 21s - loss: 0.7716 - accuracy: 0.7756 - val_loss: 0.6734 - val_accuracy: 0.8112\n",
      "\n",
      "Epoch 00047: val_accuracy improved from 0.81080 to 0.81120, saving model to mi_mejor_modelo.hdf5\n",
      "Epoch 48/120\n",
      "351/351 - 20s - loss: 0.7737 - accuracy: 0.7751 - val_loss: 0.7200 - val_accuracy: 0.7990\n",
      "\n",
      "Epoch 00048: val_accuracy did not improve from 0.81120\n",
      "Epoch 49/120\n",
      "351/351 - 21s - loss: 0.7724 - accuracy: 0.7728 - val_loss: 0.7263 - val_accuracy: 0.7916\n",
      "\n",
      "Epoch 00049: val_accuracy did not improve from 0.81120\n",
      "Epoch 50/120\n",
      "351/351 - 21s - loss: 0.7697 - accuracy: 0.7732 - val_loss: 0.8356 - val_accuracy: 0.7632\n",
      "\n",
      "Epoch 00050: val_accuracy did not improve from 0.81120\n",
      "Epoch 51/120\n",
      "351/351 - 20s - loss: 0.7743 - accuracy: 0.7744 - val_loss: 0.7112 - val_accuracy: 0.8024\n",
      "\n",
      "Epoch 00051: val_accuracy did not improve from 0.81120\n",
      "Epoch 52/120\n",
      "351/351 - 21s - loss: 0.7673 - accuracy: 0.7773 - val_loss: 0.8069 - val_accuracy: 0.7726\n",
      "\n",
      "Epoch 00052: val_accuracy did not improve from 0.81120\n",
      "Epoch 53/120\n",
      "351/351 - 21s - loss: 0.7665 - accuracy: 0.7776 - val_loss: 0.7588 - val_accuracy: 0.7860\n",
      "\n",
      "Epoch 00053: val_accuracy did not improve from 0.81120\n",
      "Epoch 54/120\n",
      "351/351 - 21s - loss: 0.7716 - accuracy: 0.7769 - val_loss: 0.6713 - val_accuracy: 0.8128\n",
      "\n",
      "Epoch 00054: val_accuracy improved from 0.81120 to 0.81280, saving model to mi_mejor_modelo.hdf5\n",
      "Epoch 55/120\n",
      "351/351 - 21s - loss: 0.7606 - accuracy: 0.7793 - val_loss: 0.7531 - val_accuracy: 0.7894\n",
      "\n",
      "Epoch 00055: val_accuracy did not improve from 0.81280\n",
      "Epoch 56/120\n",
      "351/351 - 21s - loss: 0.7570 - accuracy: 0.7797 - val_loss: 0.7005 - val_accuracy: 0.8004\n",
      "\n",
      "Epoch 00056: val_accuracy did not improve from 0.81280\n",
      "Epoch 57/120\n",
      "351/351 - 21s - loss: 0.7595 - accuracy: 0.7817 - val_loss: 0.7091 - val_accuracy: 0.8000\n",
      "\n",
      "Epoch 00057: val_accuracy did not improve from 0.81280\n",
      "Epoch 58/120\n",
      "351/351 - 21s - loss: 0.7601 - accuracy: 0.7809 - val_loss: 0.7357 - val_accuracy: 0.7940\n",
      "\n",
      "Epoch 00058: val_accuracy did not improve from 0.81280\n",
      "Epoch 59/120\n",
      "351/351 - 21s - loss: 0.7550 - accuracy: 0.7840 - val_loss: 0.6856 - val_accuracy: 0.8078\n",
      "\n",
      "Epoch 00059: val_accuracy did not improve from 0.81280\n",
      "Epoch 60/120\n",
      "351/351 - 20s - loss: 0.7549 - accuracy: 0.7824 - val_loss: 0.7322 - val_accuracy: 0.7946\n",
      "\n",
      "Epoch 00060: val_accuracy did not improve from 0.81280\n",
      "Epoch 61/120\n",
      "351/351 - 20s - loss: 0.7610 - accuracy: 0.7813 - val_loss: 0.7282 - val_accuracy: 0.8000\n",
      "\n",
      "Epoch 00061: val_accuracy did not improve from 0.81280\n",
      "Epoch 62/120\n",
      "351/351 - 21s - loss: 0.7608 - accuracy: 0.7802 - val_loss: 0.6948 - val_accuracy: 0.8112\n",
      "\n",
      "Epoch 00062: val_accuracy did not improve from 0.81280\n",
      "Epoch 63/120\n",
      "351/351 - 21s - loss: 0.7520 - accuracy: 0.7854 - val_loss: 0.7055 - val_accuracy: 0.8048\n",
      "\n",
      "Epoch 00063: val_accuracy did not improve from 0.81280\n",
      "Epoch 64/120\n",
      "351/351 - 21s - loss: 0.7529 - accuracy: 0.7837 - val_loss: 0.7353 - val_accuracy: 0.7972\n",
      "\n",
      "Epoch 00064: val_accuracy did not improve from 0.81280\n",
      "Epoch 65/120\n",
      "351/351 - 20s - loss: 0.7573 - accuracy: 0.7809 - val_loss: 0.7064 - val_accuracy: 0.8120\n",
      "\n",
      "Epoch 00065: val_accuracy did not improve from 0.81280\n",
      "Epoch 66/120\n",
      "351/351 - 20s - loss: 0.7511 - accuracy: 0.7830 - val_loss: 0.7509 - val_accuracy: 0.7954\n",
      "\n",
      "Epoch 00066: val_accuracy did not improve from 0.81280\n",
      "Epoch 67/120\n",
      "351/351 - 20s - loss: 0.7507 - accuracy: 0.7851 - val_loss: 0.7570 - val_accuracy: 0.7892\n",
      "\n",
      "Epoch 00067: val_accuracy did not improve from 0.81280\n",
      "Epoch 68/120\n",
      "351/351 - 20s - loss: 0.7527 - accuracy: 0.7823 - val_loss: 0.7166 - val_accuracy: 0.8034\n",
      "\n",
      "Epoch 00068: val_accuracy did not improve from 0.81280\n",
      "Epoch 69/120\n",
      "351/351 - 20s - loss: 0.7473 - accuracy: 0.7873 - val_loss: 0.7258 - val_accuracy: 0.7982\n",
      "\n",
      "Epoch 00069: val_accuracy did not improve from 0.81280\n",
      "Epoch 70/120\n",
      "351/351 - 20s - loss: 0.7462 - accuracy: 0.7874 - val_loss: 0.6595 - val_accuracy: 0.8192\n",
      "\n",
      "Epoch 00070: val_accuracy improved from 0.81280 to 0.81920, saving model to mi_mejor_modelo.hdf5\n",
      "Epoch 71/120\n",
      "351/351 - 19s - loss: 0.7402 - accuracy: 0.7890 - val_loss: 0.6876 - val_accuracy: 0.8120\n",
      "\n",
      "Epoch 00071: val_accuracy did not improve from 0.81920\n",
      "Epoch 72/120\n",
      "351/351 - 20s - loss: 0.7459 - accuracy: 0.7867 - val_loss: 0.6911 - val_accuracy: 0.8094\n",
      "\n",
      "Epoch 00072: val_accuracy did not improve from 0.81920\n",
      "Epoch 73/120\n",
      "351/351 - 21s - loss: 0.7471 - accuracy: 0.7865 - val_loss: 0.6537 - val_accuracy: 0.8216\n",
      "\n",
      "Epoch 00073: val_accuracy improved from 0.81920 to 0.82160, saving model to mi_mejor_modelo.hdf5\n",
      "Epoch 74/120\n",
      "351/351 - 20s - loss: 0.7423 - accuracy: 0.7880 - val_loss: 0.6585 - val_accuracy: 0.8242\n",
      "\n",
      "Epoch 00074: val_accuracy improved from 0.82160 to 0.82420, saving model to mi_mejor_modelo.hdf5\n",
      "Epoch 75/120\n",
      "351/351 - 21s - loss: 0.7489 - accuracy: 0.7864 - val_loss: 0.6608 - val_accuracy: 0.8152\n",
      "\n",
      "Epoch 00075: val_accuracy did not improve from 0.82420\n",
      "Epoch 76/120\n",
      "351/351 - 20s - loss: 0.7455 - accuracy: 0.7880 - val_loss: 0.6910 - val_accuracy: 0.8118\n",
      "\n",
      "Epoch 00076: val_accuracy did not improve from 0.82420\n",
      "Epoch 77/120\n",
      "351/351 - 20s - loss: 0.7417 - accuracy: 0.7898 - val_loss: 0.7252 - val_accuracy: 0.8028\n",
      "\n",
      "Epoch 00077: val_accuracy did not improve from 0.82420\n",
      "Epoch 78/120\n",
      "351/351 - 20s - loss: 0.7403 - accuracy: 0.7902 - val_loss: 0.7563 - val_accuracy: 0.7892\n",
      "\n",
      "Epoch 00078: val_accuracy did not improve from 0.82420\n",
      "Epoch 79/120\n",
      "351/351 - 21s - loss: 0.7339 - accuracy: 0.7926 - val_loss: 0.7302 - val_accuracy: 0.7960\n",
      "\n",
      "Epoch 00079: val_accuracy did not improve from 0.82420\n",
      "Epoch 80/120\n",
      "351/351 - 20s - loss: 0.7369 - accuracy: 0.7924 - val_loss: 0.7615 - val_accuracy: 0.7928\n",
      "\n",
      "Epoch 00080: val_accuracy did not improve from 0.82420\n",
      "Epoch 81/120\n",
      "351/351 - 20s - loss: 0.7420 - accuracy: 0.7912 - val_loss: 0.6845 - val_accuracy: 0.8178\n",
      "\n",
      "Epoch 00081: val_accuracy did not improve from 0.82420\n",
      "Epoch 82/120\n",
      "351/351 - 20s - loss: 0.7354 - accuracy: 0.7907 - val_loss: 0.7050 - val_accuracy: 0.8064\n",
      "\n",
      "Epoch 00082: val_accuracy did not improve from 0.82420\n",
      "Epoch 83/120\n",
      "351/351 - 20s - loss: 0.7308 - accuracy: 0.7921 - val_loss: 0.7351 - val_accuracy: 0.8004\n",
      "\n",
      "Epoch 00083: val_accuracy did not improve from 0.82420\n",
      "Epoch 84/120\n",
      "351/351 - 20s - loss: 0.7377 - accuracy: 0.7906 - val_loss: 0.7266 - val_accuracy: 0.8056\n",
      "\n",
      "Epoch 00084: val_accuracy did not improve from 0.82420\n",
      "Epoch 85/120\n",
      "351/351 - 20s - loss: 0.7337 - accuracy: 0.7935 - val_loss: 0.6327 - val_accuracy: 0.8312\n",
      "\n",
      "Epoch 00085: val_accuracy improved from 0.82420 to 0.83120, saving model to mi_mejor_modelo.hdf5\n",
      "Epoch 86/120\n",
      "351/351 - 20s - loss: 0.7342 - accuracy: 0.7912 - val_loss: 0.7398 - val_accuracy: 0.8006\n",
      "\n",
      "Epoch 00086: val_accuracy did not improve from 0.83120\n",
      "Epoch 87/120\n",
      "351/351 - 20s - loss: 0.7334 - accuracy: 0.7919 - val_loss: 0.6030 - val_accuracy: 0.8378\n",
      "\n",
      "Epoch 00087: val_accuracy improved from 0.83120 to 0.83780, saving model to mi_mejor_modelo.hdf5\n",
      "Epoch 88/120\n",
      "351/351 - 20s - loss: 0.7327 - accuracy: 0.7927 - val_loss: 0.7168 - val_accuracy: 0.8138\n",
      "\n",
      "Epoch 00088: val_accuracy did not improve from 0.83780\n",
      "Epoch 89/120\n",
      "351/351 - 20s - loss: 0.7230 - accuracy: 0.7967 - val_loss: 0.7023 - val_accuracy: 0.8088\n",
      "\n",
      "Epoch 00089: val_accuracy did not improve from 0.83780\n",
      "Epoch 90/120\n",
      "351/351 - 20s - loss: 0.7286 - accuracy: 0.7948 - val_loss: 0.7696 - val_accuracy: 0.7848\n",
      "\n",
      "Epoch 00090: val_accuracy did not improve from 0.83780\n",
      "Epoch 91/120\n",
      "351/351 - 20s - loss: 0.7399 - accuracy: 0.7894 - val_loss: 0.6801 - val_accuracy: 0.8184\n",
      "\n",
      "Epoch 00091: val_accuracy did not improve from 0.83780\n",
      "Epoch 92/120\n",
      "351/351 - 21s - loss: 0.7280 - accuracy: 0.7962 - val_loss: 0.6465 - val_accuracy: 0.8220\n",
      "\n",
      "Epoch 00092: val_accuracy did not improve from 0.83780\n",
      "Epoch 93/120\n",
      "351/351 - 20s - loss: 0.7276 - accuracy: 0.7967 - val_loss: 0.7207 - val_accuracy: 0.8008\n",
      "\n",
      "Epoch 00093: val_accuracy did not improve from 0.83780\n",
      "Epoch 94/120\n",
      "351/351 - 21s - loss: 0.7273 - accuracy: 0.7945 - val_loss: 0.7114 - val_accuracy: 0.8100\n",
      "\n",
      "Epoch 00094: val_accuracy did not improve from 0.83780\n",
      "Epoch 95/120\n",
      "351/351 - 20s - loss: 0.7290 - accuracy: 0.7947 - val_loss: 0.7221 - val_accuracy: 0.8042\n",
      "\n",
      "Epoch 00095: val_accuracy did not improve from 0.83780\n",
      "Epoch 96/120\n",
      "351/351 - 21s - loss: 0.7293 - accuracy: 0.7955 - val_loss: 0.6872 - val_accuracy: 0.8142\n",
      "\n",
      "Epoch 00096: val_accuracy did not improve from 0.83780\n",
      "Epoch 97/120\n",
      "351/351 - 20s - loss: 0.7299 - accuracy: 0.7950 - val_loss: 0.8279 - val_accuracy: 0.7794\n",
      "\n",
      "Epoch 00097: val_accuracy did not improve from 0.83780\n",
      "Epoch 98/120\n",
      "351/351 - 21s - loss: 0.7305 - accuracy: 0.7957 - val_loss: 0.6638 - val_accuracy: 0.8184\n",
      "\n",
      "Epoch 00098: val_accuracy did not improve from 0.83780\n",
      "Epoch 99/120\n",
      "351/351 - 21s - loss: 0.7247 - accuracy: 0.7950 - val_loss: 0.6856 - val_accuracy: 0.8110\n",
      "\n",
      "Epoch 00099: val_accuracy did not improve from 0.83780\n",
      "Epoch 100/120\n",
      "351/351 - 21s - loss: 0.7305 - accuracy: 0.7960 - val_loss: 0.6513 - val_accuracy: 0.8218\n",
      "\n",
      "Epoch 00100: val_accuracy did not improve from 0.83780\n",
      "Epoch 101/120\n",
      "351/351 - 21s - loss: 0.7200 - accuracy: 0.7978 - val_loss: 0.6981 - val_accuracy: 0.8136\n",
      "\n",
      "Epoch 00101: val_accuracy did not improve from 0.83780\n",
      "Epoch 102/120\n",
      "351/351 - 21s - loss: 0.7240 - accuracy: 0.7977 - val_loss: 0.6808 - val_accuracy: 0.8174\n",
      "\n",
      "Epoch 00102: val_accuracy did not improve from 0.83780\n",
      "Epoch 103/120\n",
      "351/351 - 20s - loss: 0.7284 - accuracy: 0.7941 - val_loss: 0.7136 - val_accuracy: 0.8092\n",
      "\n",
      "Epoch 00103: val_accuracy did not improve from 0.83780\n",
      "Epoch 104/120\n",
      "351/351 - 21s - loss: 0.7246 - accuracy: 0.7976 - val_loss: 0.6971 - val_accuracy: 0.8124\n",
      "\n",
      "Epoch 00104: val_accuracy did not improve from 0.83780\n",
      "Epoch 105/120\n",
      "351/351 - 20s - loss: 0.7272 - accuracy: 0.7963 - val_loss: 0.6727 - val_accuracy: 0.8146\n",
      "\n",
      "Epoch 00105: val_accuracy did not improve from 0.83780\n",
      "Epoch 106/120\n",
      "351/351 - 20s - loss: 0.7179 - accuracy: 0.7999 - val_loss: 0.6422 - val_accuracy: 0.8300\n",
      "\n",
      "Epoch 00106: val_accuracy did not improve from 0.83780\n",
      "Epoch 107/120\n",
      "351/351 - 20s - loss: 0.7245 - accuracy: 0.7960 - val_loss: 0.6975 - val_accuracy: 0.8034\n",
      "\n",
      "Epoch 00107: val_accuracy did not improve from 0.83780\n",
      "Epoch 108/120\n",
      "351/351 - 21s - loss: 0.7243 - accuracy: 0.7958 - val_loss: 0.7346 - val_accuracy: 0.8018\n",
      "\n",
      "Epoch 00108: val_accuracy did not improve from 0.83780\n",
      "Epoch 109/120\n",
      "351/351 - 21s - loss: 0.7230 - accuracy: 0.7976 - val_loss: 0.6659 - val_accuracy: 0.8214\n",
      "\n",
      "Epoch 00109: val_accuracy did not improve from 0.83780\n",
      "Epoch 110/120\n",
      "351/351 - 21s - loss: 0.7238 - accuracy: 0.7964 - val_loss: 0.6346 - val_accuracy: 0.8292\n",
      "\n",
      "Epoch 00110: val_accuracy did not improve from 0.83780\n",
      "Epoch 111/120\n",
      "351/351 - 21s - loss: 0.7214 - accuracy: 0.7966 - val_loss: 0.6735 - val_accuracy: 0.8154\n",
      "\n",
      "Epoch 00111: val_accuracy did not improve from 0.83780\n",
      "Epoch 112/120\n",
      "351/351 - 20s - loss: 0.7234 - accuracy: 0.7961 - val_loss: 0.7727 - val_accuracy: 0.7884\n",
      "\n",
      "Epoch 00112: val_accuracy did not improve from 0.83780\n",
      "Epoch 113/120\n",
      "351/351 - 21s - loss: 0.7229 - accuracy: 0.7981 - val_loss: 0.6738 - val_accuracy: 0.8214\n",
      "\n",
      "Epoch 00113: val_accuracy did not improve from 0.83780\n",
      "Epoch 114/120\n",
      "351/351 - 20s - loss: 0.7166 - accuracy: 0.8000 - val_loss: 0.6447 - val_accuracy: 0.8294\n",
      "\n",
      "Epoch 00114: val_accuracy did not improve from 0.83780\n",
      "Epoch 115/120\n",
      "351/351 - 21s - loss: 0.7209 - accuracy: 0.7984 - val_loss: 0.7008 - val_accuracy: 0.8128\n",
      "\n",
      "Epoch 00115: val_accuracy did not improve from 0.83780\n",
      "Epoch 116/120\n",
      "351/351 - 20s - loss: 0.7264 - accuracy: 0.7983 - val_loss: 0.6449 - val_accuracy: 0.8274\n",
      "\n",
      "Epoch 00116: val_accuracy did not improve from 0.83780\n",
      "Epoch 117/120\n",
      "351/351 - 21s - loss: 0.7106 - accuracy: 0.8015 - val_loss: 0.7410 - val_accuracy: 0.7978\n",
      "\n",
      "Epoch 00117: val_accuracy did not improve from 0.83780\n",
      "Epoch 118/120\n",
      "351/351 - 21s - loss: 0.7127 - accuracy: 0.7999 - val_loss: 0.6876 - val_accuracy: 0.8112\n",
      "\n",
      "Epoch 00118: val_accuracy did not improve from 0.83780\n",
      "Epoch 119/120\n",
      "351/351 - 21s - loss: 0.7178 - accuracy: 0.8007 - val_loss: 0.6282 - val_accuracy: 0.8346\n",
      "\n",
      "Epoch 00119: val_accuracy did not improve from 0.83780\n",
      "Epoch 120/120\n",
      "351/351 - 21s - loss: 0.7179 - accuracy: 0.7992 - val_loss: 0.6827 - val_accuracy: 0.8182\n",
      "\n",
      "Epoch 00120: val_accuracy did not improve from 0.83780\n"
     ]
    }
   ],
   "source": [
    "hist=model.fit(datagen.flow(x_train,y_train, batch_size=128),\n",
    "          callbacks=[checkpoint],\n",
    "          steps_per_epoch = x_train.shape[0]// 128, #steps_per_epoch = (number_of_samples_in_train_data / batch_size)\n",
    "          epochs=120,\n",
    "          verbose=2,\n",
    "          validation_data=(x_valid, y_valid)\n",
    "         )"
   ]
  },
  {
   "cell_type": "code",
   "execution_count": 19,
   "id": "fa08df8f",
   "metadata": {
    "execution": {
     "iopub.execute_input": "2022-04-09T20:05:13.272400Z",
     "iopub.status.busy": "2022-04-09T20:05:13.271565Z",
     "iopub.status.idle": "2022-04-09T20:05:13.436714Z",
     "shell.execute_reply": "2022-04-09T20:05:13.437451Z",
     "shell.execute_reply.started": "2022-04-09T19:10:10.399615Z"
    },
    "papermill": {
     "duration": 0.348693,
     "end_time": "2022-04-09T20:05:13.437603",
     "exception": false,
     "start_time": "2022-04-09T20:05:13.088910",
     "status": "completed"
    },
    "tags": []
   },
   "outputs": [
    {
     "data": {
      "image/png": "[encoded data removed]",
      "text/plain": [
       "<Figure size 432x288 with 1 Axes>"
      ]
     },
     "metadata": {
      "needs_background": "light"
     },
     "output_type": "display_data"
    }
   ],
   "source": [
    "plt.plot(hist.history['accuracy'],label='Train')\n",
    "plt.plot(hist.history['val_accuracy'],label='Val')\n",
    "plt.legend()\n",
    "plt.show()"
   ]
  },
  {
   "cell_type": "code",
   "execution_count": 20,
   "id": "2749ab64",
   "metadata": {
    "execution": {
     "iopub.execute_input": "2022-04-09T20:05:13.777707Z",
     "iopub.status.busy": "2022-04-09T20:05:13.776786Z",
     "iopub.status.idle": "2022-04-09T20:05:15.365515Z",
     "shell.execute_reply": "2022-04-09T20:05:15.365066Z",
     "shell.execute_reply.started": "2022-04-09T19:10:15.866496Z"
    },
    "papermill": {
     "duration": 1.761033,
     "end_time": "2022-04-09T20:05:15.365654",
     "exception": false,
     "start_time": "2022-04-09T20:05:13.604621",
     "status": "completed"
    },
    "tags": []
   },
   "outputs": [
    {
     "name": "stdout",
     "output_type": "stream",
     "text": [
      "313/313 [==============================] - 1s 3ms/step - loss: 0.7272 - accuracy: 0.8060\n"
     ]
    },
    {
     "data": {
      "text/plain": [
       "[0.7271978259086609, 0.8059999942779541]"
      ]
     },
     "execution_count": 20,
     "metadata": {},
     "output_type": "execute_result"
    }
   ],
   "source": [
    "model.evaluate(x_test,y_test)"
   ]
  },
  {
   "cell_type": "code",
   "execution_count": 21,
   "id": "533bd569",
   "metadata": {
    "execution": {
     "iopub.execute_input": "2022-04-09T20:05:15.719801Z",
     "iopub.status.busy": "2022-04-09T20:05:15.718251Z",
     "iopub.status.idle": "2022-04-09T20:05:15.720399Z",
     "shell.execute_reply": "2022-04-09T20:05:15.720811Z",
     "shell.execute_reply.started": "2022-04-09T19:10:18.404629Z"
    },
    "papermill": {
     "duration": 0.181938,
     "end_time": "2022-04-09T20:05:15.720941",
     "exception": false,
     "start_time": "2022-04-09T20:05:15.539003",
     "status": "completed"
    },
    "tags": []
   },
   "outputs": [],
   "source": [
    "model2 = model"
   ]
  },
  {
   "cell_type": "code",
   "execution_count": 22,
   "id": "f5f0fea9",
   "metadata": {
    "execution": {
     "iopub.execute_input": "2022-04-09T20:05:16.161930Z",
     "iopub.status.busy": "2022-04-09T20:05:16.160994Z",
     "iopub.status.idle": "2022-04-09T20:05:16.213141Z",
     "shell.execute_reply": "2022-04-09T20:05:16.214082Z",
     "shell.execute_reply.started": "2022-04-09T19:10:19.828587Z"
    },
    "papermill": {
     "duration": 0.319104,
     "end_time": "2022-04-09T20:05:16.214291",
     "exception": false,
     "start_time": "2022-04-09T20:05:15.895187",
     "status": "completed"
    },
    "tags": []
   },
   "outputs": [],
   "source": [
    "model2.load_weights('./mi_mejor_modelo.hdf5')"
   ]
  },
  {
   "cell_type": "code",
   "execution_count": 23,
   "id": "6d05fce9",
   "metadata": {
    "execution": {
     "iopub.execute_input": "2022-04-09T20:05:16.708623Z",
     "iopub.status.busy": "2022-04-09T20:05:16.707729Z",
     "iopub.status.idle": "2022-04-09T20:05:18.069058Z",
     "shell.execute_reply": "2022-04-09T20:05:18.068611Z",
     "shell.execute_reply.started": "2022-04-09T19:10:23.000221Z"
    },
    "papermill": {
     "duration": 1.566962,
     "end_time": "2022-04-09T20:05:18.069191",
     "exception": false,
     "start_time": "2022-04-09T20:05:16.502229",
     "status": "completed"
    },
    "tags": []
   },
   "outputs": [
    {
     "name": "stdout",
     "output_type": "stream",
     "text": [
      "313/313 [==============================] - 1s 3ms/step - loss: 0.6352 - accuracy: 0.8359\n"
     ]
    },
    {
     "data": {
      "text/plain": [
       "[0.6352062821388245, 0.8359000086784363]"
      ]
     },
     "execution_count": 23,
     "metadata": {},
     "output_type": "execute_result"
    }
   ],
   "source": [
    "model2.evaluate(x_test,y_test)"
   ]
  }
 ],
 "metadata": {
  "kernelspec": {
   "display_name": "Python 3",
   "language": "python",
   "name": "python3"
  },
  "language_info": {
   "codemirror_mode": {
    "name": "ipython",
    "version": 3
   },
   "file_extension": ".py",
   "mimetype": "text/x-python",
   "name": "python",
   "nbconvert_exporter": "python",
   "pygments_lexer": "ipython3",
   "version": "3.7.12"
  },
  "papermill": {
   "default_parameters": {},
   "duration": 3227.952854,
   "end_time": "2022-04-09T20:05:21.133161",
   "environment_variables": {},
   "exception": null,
   "input_path": "__notebook__.ipynb",
   "output_path": "__notebook__.ipynb",
   "parameters": {},
   "start_time": "2022-04-09T19:11:33.180307",
   "version": "2.3.3"
  }
 },
 "nbformat": 4,
 "nbformat_minor": 5
}
