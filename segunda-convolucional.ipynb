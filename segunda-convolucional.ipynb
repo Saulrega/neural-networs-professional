{
 "cells": [
  {
   "cell_type": "code",
   "execution_count": 1,
   "id": "d2893716",
   "metadata": {
    "execution": {
     "iopub.execute_input": "2022-04-08T19:09:44.878385Z",
     "iopub.status.busy": "2022-04-08T19:09:44.876860Z",
     "iopub.status.idle": "2022-04-08T19:09:50.893374Z",
     "shell.execute_reply": "2022-04-08T19:09:50.892629Z",
     "shell.execute_reply.started": "2022-04-08T18:10:19.902952Z"
    },
    "papermill": {
     "duration": 6.036611,
     "end_time": "2022-04-08T19:09:50.893535",
     "exception": false,
     "start_time": "2022-04-08T19:09:44.856924",
     "status": "completed"
    },
    "tags": []
   },
   "outputs": [],
   "source": [
    "import tensorflow as tf\n",
    "from tensorflow.keras.datasets import fashion_mnist\n",
    "from tensorflow.keras.layers import Conv2D, Dropout, MaxPooling2D, Flatten, Dense\n",
    "import numpy as np\n",
    "import matplotlib.pyplot as plt"
   ]
  },
  {
   "cell_type": "code",
   "execution_count": 2,
   "id": "abab9ce2",
   "metadata": {
    "execution": {
     "iopub.execute_input": "2022-04-08T19:09:50.913662Z",
     "iopub.status.busy": "2022-04-08T19:09:50.912795Z",
     "iopub.status.idle": "2022-04-08T19:09:52.775415Z",
     "shell.execute_reply": "2022-04-08T19:09:52.775847Z",
     "shell.execute_reply.started": "2022-04-08T18:11:18.082042Z"
    },
    "papermill": {
     "duration": 1.873111,
     "end_time": "2022-04-08T19:09:52.776040",
     "exception": false,
     "start_time": "2022-04-08T19:09:50.902929",
     "status": "completed"
    },
    "tags": []
   },
   "outputs": [
    {
     "name": "stdout",
     "output_type": "stream",
     "text": [
      "Downloading data from https://storage.googleapis.com/tensorflow/tf-keras-datasets/train-labels-idx1-ubyte.gz\n",
      "32768/29515 [=================================] - 0s 0us/step\n",
      "40960/29515 [=========================================] - 0s 0us/step\n",
      "Downloading data from https://storage.googleapis.com/tensorflow/tf-keras-datasets/train-images-idx3-ubyte.gz\n",
      "26427392/26421880 [==============================] - 0s 0us/step\n",
      "26435584/26421880 [==============================] - 0s 0us/step\n",
      "Downloading data from https://storage.googleapis.com/tensorflow/tf-keras-datasets/t10k-labels-idx1-ubyte.gz\n",
      "16384/5148 [===============================================================================================] - 0s 0us/step\n",
      "Downloading data from https://storage.googleapis.com/tensorflow/tf-keras-datasets/t10k-images-idx3-ubyte.gz\n",
      "4423680/4422102 [==============================] - 0s 0us/step\n",
      "4431872/4422102 [==============================] - 0s 0us/step\n"
     ]
    }
   ],
   "source": [
    "(train_images, train_labels), (test_images, test_labels) = fashion_mnist.load_data()"
   ]
  },
  {
   "cell_type": "code",
   "execution_count": 3,
   "id": "e58cb031",
   "metadata": {
    "execution": {
     "iopub.execute_input": "2022-04-08T19:09:52.806078Z",
     "iopub.status.busy": "2022-04-08T19:09:52.804827Z",
     "iopub.status.idle": "2022-04-08T19:09:52.912020Z",
     "shell.execute_reply": "2022-04-08T19:09:52.912510Z",
     "shell.execute_reply.started": "2022-04-08T18:11:36.7314Z"
    },
    "papermill": {
     "duration": 0.124183,
     "end_time": "2022-04-08T19:09:52.912673",
     "exception": false,
     "start_time": "2022-04-08T19:09:52.788490",
     "status": "completed"
    },
    "tags": []
   },
   "outputs": [],
   "source": [
    "train_images = train_images.astype('float32') / 255\n",
    "test_images = test_images.astype('float32') /255"
   ]
  },
  {
   "cell_type": "code",
   "execution_count": 4,
   "id": "70d3201f",
   "metadata": {
    "execution": {
     "iopub.execute_input": "2022-04-08T19:09:52.940547Z",
     "iopub.status.busy": "2022-04-08T19:09:52.939603Z",
     "iopub.status.idle": "2022-04-08T19:09:52.943987Z",
     "shell.execute_reply": "2022-04-08T19:09:52.944478Z",
     "shell.execute_reply.started": "2022-04-08T18:11:50.683686Z"
    },
    "papermill": {
     "duration": 0.020117,
     "end_time": "2022-04-08T19:09:52.944640",
     "exception": false,
     "start_time": "2022-04-08T19:09:52.924523",
     "status": "completed"
    },
    "tags": []
   },
   "outputs": [],
   "source": [
    "train_images = train_images.reshape(train_images.shape[0], 28,28,1)\n",
    "test_images = test_images.reshape(test_images.shape[0], 28,28,1)"
   ]
  },
  {
   "cell_type": "code",
   "execution_count": 5,
   "id": "3790816b",
   "metadata": {
    "execution": {
     "iopub.execute_input": "2022-04-08T19:09:52.971449Z",
     "iopub.status.busy": "2022-04-08T19:09:52.970523Z",
     "iopub.status.idle": "2022-04-08T19:09:52.974280Z",
     "shell.execute_reply": "2022-04-08T19:09:52.974759Z",
     "shell.execute_reply.started": "2022-04-08T18:13:04.345285Z"
    },
    "papermill": {
     "duration": 0.018549,
     "end_time": "2022-04-08T19:09:52.974924",
     "exception": false,
     "start_time": "2022-04-08T19:09:52.956375",
     "status": "completed"
    },
    "tags": []
   },
   "outputs": [],
   "source": [
    "from keras.losses import SparseCategoricalCrossentropy"
   ]
  },
  {
   "cell_type": "code",
   "execution_count": 6,
   "id": "d30aa5aa",
   "metadata": {
    "execution": {
     "iopub.execute_input": "2022-04-08T19:09:53.001754Z",
     "iopub.status.busy": "2022-04-08T19:09:53.000856Z",
     "iopub.status.idle": "2022-04-08T19:09:53.158686Z",
     "shell.execute_reply": "2022-04-08T19:09:53.159125Z",
     "shell.execute_reply.started": "2022-04-08T18:14:58.157673Z"
    },
    "papermill": {
     "duration": 0.172746,
     "end_time": "2022-04-08T19:09:53.159314",
     "exception": false,
     "start_time": "2022-04-08T19:09:52.986568",
     "status": "completed"
    },
    "tags": []
   },
   "outputs": [
    {
     "name": "stdout",
     "output_type": "stream",
     "text": [
      "Model: \"sequential\"\n",
      "_________________________________________________________________\n",
      "Layer (type)                 Output Shape              Param #   \n",
      "=================================================================\n",
      "conv2d (Conv2D)              (None, 28, 28, 64)        320       \n",
      "_________________________________________________________________\n",
      "max_pooling2d (MaxPooling2D) (None, 14, 14, 64)        0         \n",
      "_________________________________________________________________\n",
      "dropout (Dropout)            (None, 14, 14, 64)        0         \n",
      "_________________________________________________________________\n",
      "conv2d_1 (Conv2D)            (None, 14, 14, 32)        8224      \n",
      "_________________________________________________________________\n",
      "max_pooling2d_1 (MaxPooling2 (None, 7, 7, 32)          0         \n",
      "_________________________________________________________________\n",
      "dropout_1 (Dropout)          (None, 7, 7, 32)          0         \n",
      "_________________________________________________________________\n",
      "flatten (Flatten)            (None, 1568)              0         \n",
      "_________________________________________________________________\n",
      "dense (Dense)                (None, 256)               401664    \n",
      "_________________________________________________________________\n",
      "dropout_2 (Dropout)          (None, 256)               0         \n",
      "_________________________________________________________________\n",
      "dense_1 (Dense)              (None, 10)                2570      \n",
      "=================================================================\n",
      "Total params: 412,778\n",
      "Trainable params: 412,778\n",
      "Non-trainable params: 0\n",
      "_________________________________________________________________\n"
     ]
    },
    {
     "name": "stderr",
     "output_type": "stream",
     "text": [
      "2022-04-08 19:09:53.037101: I tensorflow/core/common_runtime/process_util.cc:146] Creating new thread pool with default inter op setting: 2. Tune using inter_op_parallelism_threads for best performance.\n"
     ]
    }
   ],
   "source": [
    "model = tf.keras.Sequential()\n",
    "model.add(Conv2D(filters=64, kernel_size=2, padding='same', activation='relu', input_shape=(28,28,1))) \n",
    "model.add(MaxPooling2D(pool_size=2))\n",
    "model.add(Dropout(0.3))\n",
    "model.add(Conv2D(filters=32, kernel_size=2, padding='same', activation='relu'))\n",
    "model.add(MaxPooling2D(pool_size=2))\n",
    "model.add(Dropout(0.3))\n",
    "model.add(Flatten())\n",
    "model.add(Dense(256, activation='relu'))\n",
    "model.add(Dropout(0.5))\n",
    "model.add(Dense(10))\n",
    "model.summary()"
   ]
  },
  {
   "cell_type": "code",
   "execution_count": 7,
   "id": "b7eca4b1",
   "metadata": {
    "execution": {
     "iopub.execute_input": "2022-04-08T19:09:53.190017Z",
     "iopub.status.busy": "2022-04-08T19:09:53.189450Z",
     "iopub.status.idle": "2022-04-08T19:14:06.119944Z",
     "shell.execute_reply": "2022-04-08T19:14:06.099245Z",
     "shell.execute_reply.started": "2022-04-08T18:16:45.408586Z"
    },
    "papermill": {
     "duration": 252.948578,
     "end_time": "2022-04-08T19:14:06.120123",
     "exception": false,
     "start_time": "2022-04-08T19:09:53.171545",
     "status": "completed"
    },
    "tags": []
   },
   "outputs": [
    {
     "name": "stderr",
     "output_type": "stream",
     "text": [
      "2022-04-08 19:09:53.461256: I tensorflow/compiler/mlir/mlir_graph_optimization_pass.cc:185] None of the MLIR Optimization Passes are enabled (registered 2)\n"
     ]
    },
    {
     "name": "stdout",
     "output_type": "stream",
     "text": [
      "Epoch 1/10\n",
      "938/938 [==============================] - 26s 27ms/step - loss: 0.5620 - accuracy: 0.7969\n",
      "Epoch 2/10\n",
      "938/938 [==============================] - 24s 26ms/step - loss: 0.3962 - accuracy: 0.8594\n",
      "Epoch 3/10\n",
      "938/938 [==============================] - 25s 27ms/step - loss: 0.3600 - accuracy: 0.8714\n",
      "Epoch 4/10\n",
      "938/938 [==============================] - 25s 27ms/step - loss: 0.3407 - accuracy: 0.8784\n",
      "Epoch 5/10\n",
      "938/938 [==============================] - 25s 27ms/step - loss: 0.3259 - accuracy: 0.8831\n",
      "Epoch 6/10\n",
      "938/938 [==============================] - 24s 26ms/step - loss: 0.3235 - accuracy: 0.8872\n",
      "Epoch 7/10\n",
      "938/938 [==============================] - 26s 27ms/step - loss: 0.3215 - accuracy: 0.8876\n",
      "Epoch 8/10\n",
      "938/938 [==============================] - 25s 27ms/step - loss: 0.3192 - accuracy: 0.8890\n",
      "Epoch 9/10\n",
      "938/938 [==============================] - 26s 27ms/step - loss: 0.3206 - accuracy: 0.8877\n",
      "Epoch 10/10\n",
      "938/938 [==============================] - 25s 27ms/step - loss: 0.3195 - accuracy: 0.8892\n"
     ]
    },
    {
     "data": {
      "text/plain": [
       "<keras.callbacks.History at 0x7f0eb30b6810>"
      ]
     },
     "execution_count": 7,
     "metadata": {},
     "output_type": "execute_result"
    }
   ],
   "source": [
    "model.compile(loss=SparseCategoricalCrossentropy(from_logits=True),\n",
    "             optimizer='rmsprop',\n",
    "              metrics=['accuracy']\n",
    "             )\n",
    "model.fit(train_images, train_labels, batch_size=64, epochs=10)"
   ]
  },
  {
   "cell_type": "code",
   "execution_count": 8,
   "id": "0f753fa0",
   "metadata": {
    "execution": {
     "iopub.execute_input": "2022-04-08T19:14:08.677649Z",
     "iopub.status.busy": "2022-04-08T19:14:08.677000Z",
     "iopub.status.idle": "2022-04-08T19:14:10.042031Z",
     "shell.execute_reply": "2022-04-08T19:14:10.041459Z",
     "shell.execute_reply.started": "2022-04-08T18:21:22.921174Z"
    },
    "papermill": {
     "duration": 2.640021,
     "end_time": "2022-04-08T19:14:10.042212",
     "exception": false,
     "start_time": "2022-04-08T19:14:07.402191",
     "status": "completed"
    },
    "tags": []
   },
   "outputs": [
    {
     "name": "stdout",
     "output_type": "stream",
     "text": [
      "313/313 [==============================] - 1s 4ms/step - loss: 0.2978 - accuracy: 0.9012\n"
     ]
    },
    {
     "data": {
      "text/plain": [
       "[0.2978377938270569, 0.901199996471405]"
      ]
     },
     "execution_count": 8,
     "metadata": {},
     "output_type": "execute_result"
    }
   ],
   "source": [
    "model.evaluate(test_images, test_labels)"
   ]
  }
 ],
 "metadata": {
  "kernelspec": {
   "display_name": "Python 3",
   "language": "python",
   "name": "python3"
  },
  "language_info": {
   "codemirror_mode": {
    "name": "ipython",
    "version": 3
   },
   "file_extension": ".py",
   "mimetype": "text/x-python",
   "name": "python",
   "nbconvert_exporter": "python",
   "pygments_lexer": "ipython3",
   "version": "3.7.12"
  },
  "papermill": {
   "default_parameters": {},
   "duration": 277.700746,
   "end_time": "2022-04-08T19:14:14.159825",
   "environment_variables": {},
   "exception": null,
   "input_path": "__notebook__.ipynb",
   "output_path": "__notebook__.ipynb",
   "parameters": {},
   "start_time": "2022-04-08T19:09:36.459079",
   "version": "2.3.3"
  }
 },
 "nbformat": 4,
 "nbformat_minor": 5
}
