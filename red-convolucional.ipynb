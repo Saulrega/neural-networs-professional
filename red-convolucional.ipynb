{
 "cells": [
  {
   "cell_type": "code",
   "execution_count": 1,
   "id": "00304678",
   "metadata": {
    "execution": {
     "iopub.execute_input": "2022-04-09T17:55:36.767774Z",
     "iopub.status.busy": "2022-04-09T17:55:36.767079Z",
     "iopub.status.idle": "2022-04-09T17:55:42.008265Z",
     "shell.execute_reply": "2022-04-09T17:55:42.007572Z",
     "shell.execute_reply.started": "2022-04-09T17:41:41.900887Z"
    },
    "papermill": {
     "duration": 5.27061,
     "end_time": "2022-04-09T17:55:42.008427",
     "exception": false,
     "start_time": "2022-04-09T17:55:36.737817",
     "status": "completed"
    },
    "tags": []
   },
   "outputs": [],
   "source": [
    "import tensorflow as tf\n",
    "from tensorflow.keras.datasets import fashion_mnist\n",
    "from tensorflow.keras.layers import Conv2D, Dropout, MaxPooling2D, Flatten, Dense\n",
    "import numpy as np\n",
    "import matplotlib.pyplot as plt"
   ]
  },
  {
   "cell_type": "code",
   "execution_count": 2,
   "id": "94408a9e",
   "metadata": {
    "execution": {
     "iopub.execute_input": "2022-04-09T17:55:42.048569Z",
     "iopub.status.busy": "2022-04-09T17:55:42.047579Z",
     "iopub.status.idle": "2022-04-09T17:55:42.762175Z",
     "shell.execute_reply": "2022-04-09T17:55:42.762577Z",
     "shell.execute_reply.started": "2022-04-09T17:41:47.520281Z"
    },
    "papermill": {
     "duration": 0.736508,
     "end_time": "2022-04-09T17:55:42.762764",
     "exception": false,
     "start_time": "2022-04-09T17:55:42.026256",
     "status": "completed"
    },
    "tags": []
   },
   "outputs": [
    {
     "name": "stdout",
     "output_type": "stream",
     "text": [
      "Downloading data from https://storage.googleapis.com/tensorflow/tf-keras-datasets/train-labels-idx1-ubyte.gz\n",
      "32768/29515 [=================================] - 0s 0us/step\n",
      "40960/29515 [=========================================] - 0s 0us/step\n",
      "Downloading data from https://storage.googleapis.com/tensorflow/tf-keras-datasets/train-images-idx3-ubyte.gz\n",
      "26427392/26421880 [==============================] - 0s 0us/step\n",
      "26435584/26421880 [==============================] - 0s 0us/step\n",
      "Downloading data from https://storage.googleapis.com/tensorflow/tf-keras-datasets/t10k-labels-idx1-ubyte.gz\n",
      "16384/5148 [===============================================================================================] - 0s 0us/step\n",
      "Downloading data from https://storage.googleapis.com/tensorflow/tf-keras-datasets/t10k-images-idx3-ubyte.gz\n",
      "4423680/4422102 [==============================] - 0s 0us/step\n",
      "4431872/4422102 [==============================] - 0s 0us/step\n"
     ]
    }
   ],
   "source": [
    "(train_images, train_labels), (test_images, test_labels) = fashion_mnist.load_data()"
   ]
  },
  {
   "cell_type": "code",
   "execution_count": 3,
   "id": "f2dfcc48",
   "metadata": {
    "execution": {
     "iopub.execute_input": "2022-04-09T17:55:42.810885Z",
     "iopub.status.busy": "2022-04-09T17:55:42.810229Z",
     "iopub.status.idle": "2022-04-09T17:55:42.813424Z",
     "shell.execute_reply": "2022-04-09T17:55:42.813837Z",
     "shell.execute_reply.started": "2022-04-09T17:41:48.555220Z"
    },
    "papermill": {
     "duration": 0.030188,
     "end_time": "2022-04-09T17:55:42.813975",
     "exception": false,
     "start_time": "2022-04-09T17:55:42.783787",
     "status": "completed"
    },
    "tags": []
   },
   "outputs": [
    {
     "data": {
      "text/plain": [
       "(60000, 28, 28)"
      ]
     },
     "execution_count": 3,
     "metadata": {},
     "output_type": "execute_result"
    }
   ],
   "source": [
    "train_images.shape"
   ]
  },
  {
   "cell_type": "code",
   "execution_count": 4,
   "id": "b734d578",
   "metadata": {
    "execution": {
     "iopub.execute_input": "2022-04-09T17:55:42.860918Z",
     "iopub.status.busy": "2022-04-09T17:55:42.860101Z",
     "iopub.status.idle": "2022-04-09T17:55:43.063350Z",
     "shell.execute_reply": "2022-04-09T17:55:43.062921Z",
     "shell.execute_reply.started": "2022-04-09T17:41:48.566011Z"
    },
    "papermill": {
     "duration": 0.229318,
     "end_time": "2022-04-09T17:55:43.063469",
     "exception": false,
     "start_time": "2022-04-09T17:55:42.834151",
     "status": "completed"
    },
    "tags": []
   },
   "outputs": [
    {
     "data": {
      "text/plain": [
       "<matplotlib.image.AxesImage at 0x7f1dcb563b90>"
      ]
     },
     "execution_count": 4,
     "metadata": {},
     "output_type": "execute_result"
    },
    {
     "data": {
      "image/png": "[encoded data removed]",
      "text/plain": [
       "<Figure size 432x288 with 1 Axes>"
      ]
     },
     "metadata": {
      "needs_background": "light"
     },
     "output_type": "display_data"
    }
   ],
   "source": [
    "plt.imshow(train_images[0])"
   ]
  },
  {
   "cell_type": "markdown",
   "id": "19c969c2",
   "metadata": {
    "papermill": {
     "duration": 0.02186,
     "end_time": "2022-04-09T17:55:43.107108",
     "exception": false,
     "start_time": "2022-04-09T17:55:43.085248",
     "status": "completed"
    },
    "tags": []
   },
   "source": [
    "## Limpieza de datos"
   ]
  },
  {
   "cell_type": "code",
   "execution_count": 5,
   "id": "0f91fb1c",
   "metadata": {
    "execution": {
     "iopub.execute_input": "2022-04-09T17:55:43.156143Z",
     "iopub.status.busy": "2022-04-09T17:55:43.155016Z",
     "iopub.status.idle": "2022-04-09T17:55:43.233249Z",
     "shell.execute_reply": "2022-04-09T17:55:43.232329Z",
     "shell.execute_reply.started": "2022-04-09T17:41:48.803173Z"
    },
    "papermill": {
     "duration": 0.10511,
     "end_time": "2022-04-09T17:55:43.233387",
     "exception": false,
     "start_time": "2022-04-09T17:55:43.128277",
     "status": "completed"
    },
    "tags": []
   },
   "outputs": [],
   "source": [
    "train_images = train_images.astype('float32') / 255\n",
    "test_images = test_images.astype('float32') /255"
   ]
  },
  {
   "cell_type": "code",
   "execution_count": 6,
   "id": "044709aa",
   "metadata": {
    "execution": {
     "iopub.execute_input": "2022-04-09T17:55:43.281504Z",
     "iopub.status.busy": "2022-04-09T17:55:43.280628Z",
     "iopub.status.idle": "2022-04-09T17:55:43.283042Z",
     "shell.execute_reply": "2022-04-09T17:55:43.282531Z",
     "shell.execute_reply.started": "2022-04-09T17:41:48.891380Z"
    },
    "papermill": {
     "duration": 0.02826,
     "end_time": "2022-04-09T17:55:43.283155",
     "exception": false,
     "start_time": "2022-04-09T17:55:43.254895",
     "status": "completed"
    },
    "tags": []
   },
   "outputs": [],
   "source": [
    "train_images = train_images.reshape(train_images.shape[0], 28,28,1)\n",
    "test_images = test_images.reshape(test_images.shape[0], 28,28,1)"
   ]
  },
  {
   "cell_type": "code",
   "execution_count": 7,
   "id": "df5a2086",
   "metadata": {
    "execution": {
     "iopub.execute_input": "2022-04-09T17:55:43.331332Z",
     "iopub.status.busy": "2022-04-09T17:55:43.330082Z",
     "iopub.status.idle": "2022-04-09T17:55:43.334048Z",
     "shell.execute_reply": "2022-04-09T17:55:43.333610Z",
     "shell.execute_reply.started": "2022-04-09T17:41:48.897727Z"
    },
    "papermill": {
     "duration": 0.029636,
     "end_time": "2022-04-09T17:55:43.334166",
     "exception": false,
     "start_time": "2022-04-09T17:55:43.304530",
     "status": "completed"
    },
    "tags": []
   },
   "outputs": [],
   "source": [
    "train_labels = tf.keras.utils.to_categorical(train_labels, 10)\n",
    "test_labels = tf.keras.utils.to_categorical(test_labels, 10)"
   ]
  },
  {
   "cell_type": "markdown",
   "id": "d58c2df6",
   "metadata": {
    "papermill": {
     "duration": 0.020735,
     "end_time": "2022-04-09T17:55:43.376015",
     "exception": false,
     "start_time": "2022-04-09T17:55:43.355280",
     "status": "completed"
    },
    "tags": []
   },
   "source": [
    "## Modelo de datos"
   ]
  },
  {
   "cell_type": "code",
   "execution_count": 8,
   "id": "5d1e6097",
   "metadata": {
    "execution": {
     "iopub.execute_input": "2022-04-09T17:55:43.425347Z",
     "iopub.status.busy": "2022-04-09T17:55:43.424836Z",
     "iopub.status.idle": "2022-04-09T17:55:45.833928Z",
     "shell.execute_reply": "2022-04-09T17:55:45.834319Z",
     "shell.execute_reply.started": "2022-04-09T17:41:48.914989Z"
    },
    "papermill": {
     "duration": 2.4371,
     "end_time": "2022-04-09T17:55:45.834480",
     "exception": false,
     "start_time": "2022-04-09T17:55:43.397380",
     "status": "completed"
    },
    "tags": []
   },
   "outputs": [
    {
     "name": "stdout",
     "output_type": "stream",
     "text": [
      "Model: \"sequential\"\n",
      "_________________________________________________________________\n",
      "Layer (type)                 Output Shape              Param #   \n",
      "=================================================================\n",
      "conv2d (Conv2D)              (None, 28, 28, 64)        320       \n",
      "_________________________________________________________________\n",
      "max_pooling2d (MaxPooling2D) (None, 14, 14, 64)        0         \n",
      "_________________________________________________________________\n",
      "dropout (Dropout)            (None, 14, 14, 64)        0         \n",
      "_________________________________________________________________\n",
      "conv2d_1 (Conv2D)            (None, 14, 14, 32)        8224      \n",
      "_________________________________________________________________\n",
      "max_pooling2d_1 (MaxPooling2 (None, 7, 7, 32)          0         \n",
      "_________________________________________________________________\n",
      "dropout_1 (Dropout)          (None, 7, 7, 32)          0         \n",
      "_________________________________________________________________\n",
      "flatten (Flatten)            (None, 1568)              0         \n",
      "_________________________________________________________________\n",
      "dense (Dense)                (None, 256)               401664    \n",
      "_________________________________________________________________\n",
      "dropout_2 (Dropout)          (None, 256)               0         \n",
      "_________________________________________________________________\n",
      "dense_1 (Dense)              (None, 10)                2570      \n",
      "=================================================================\n",
      "Total params: 412,778\n",
      "Trainable params: 412,778\n",
      "Non-trainable params: 0\n",
      "_________________________________________________________________\n"
     ]
    },
    {
     "name": "stderr",
     "output_type": "stream",
     "text": [
      "2022-04-09 17:55:43.505975: I tensorflow/stream_executor/cuda/cuda_gpu_executor.cc:937] successful NUMA node read from SysFS had negative value (-1), but there must be at least one NUMA node, so returning NUMA node zero\n",
      "2022-04-09 17:55:43.603892: I tensorflow/stream_executor/cuda/cuda_gpu_executor.cc:937] successful NUMA node read from SysFS had negative value (-1), but there must be at least one NUMA node, so returning NUMA node zero\n",
      "2022-04-09 17:55:43.604675: I tensorflow/stream_executor/cuda/cuda_gpu_executor.cc:937] successful NUMA node read from SysFS had negative value (-1), but there must be at least one NUMA node, so returning NUMA node zero\n",
      "2022-04-09 17:55:43.605945: I tensorflow/core/platform/cpu_feature_guard.cc:142] This TensorFlow binary is optimized with oneAPI Deep Neural Network Library (oneDNN) to use the following CPU instructions in performance-critical operations:  AVX2 AVX512F FMA\n",
      "To enable them in other operations, rebuild TensorFlow with the appropriate compiler flags.\n",
      "2022-04-09 17:55:43.606817: I tensorflow/stream_executor/cuda/cuda_gpu_executor.cc:937] successful NUMA node read from SysFS had negative value (-1), but there must be at least one NUMA node, so returning NUMA node zero\n",
      "2022-04-09 17:55:43.607525: I tensorflow/stream_executor/cuda/cuda_gpu_executor.cc:937] successful NUMA node read from SysFS had negative value (-1), but there must be at least one NUMA node, so returning NUMA node zero\n",
      "2022-04-09 17:55:43.608191: I tensorflow/stream_executor/cuda/cuda_gpu_executor.cc:937] successful NUMA node read from SysFS had negative value (-1), but there must be at least one NUMA node, so returning NUMA node zero\n",
      "2022-04-09 17:55:45.418618: I tensorflow/stream_executor/cuda/cuda_gpu_executor.cc:937] successful NUMA node read from SysFS had negative value (-1), but there must be at least one NUMA node, so returning NUMA node zero\n",
      "2022-04-09 17:55:45.419561: I tensorflow/stream_executor/cuda/cuda_gpu_executor.cc:937] successful NUMA node read from SysFS had negative value (-1), but there must be at least one NUMA node, so returning NUMA node zero\n",
      "2022-04-09 17:55:45.420441: I tensorflow/stream_executor/cuda/cuda_gpu_executor.cc:937] successful NUMA node read from SysFS had negative value (-1), but there must be at least one NUMA node, so returning NUMA node zero\n",
      "2022-04-09 17:55:45.421076: I tensorflow/core/common_runtime/gpu/gpu_device.cc:1510] Created device /job:localhost/replica:0/task:0/device:GPU:0 with 15403 MB memory:  -> device: 0, name: Tesla P100-PCIE-16GB, pci bus id: 0000:00:04.0, compute capability: 6.0\n"
     ]
    }
   ],
   "source": [
    "model = tf.keras.Sequential()\n",
    "model.add(Conv2D(filters=64, kernel_size=2, padding='same', activation='relu', input_shape=(28,28,1))) \n",
    "model.add(MaxPooling2D(pool_size=2))\n",
    "model.add(Dropout(0.3))\n",
    "model.add(Conv2D(filters=32, kernel_size=2, padding='same', activation='relu'))\n",
    "model.add(MaxPooling2D(pool_size=2))\n",
    "model.add(Dropout(0.3))\n",
    "model.add(Flatten())\n",
    "model.add(Dense(256, activation='relu'))\n",
    "model.add(Dropout(0.5))\n",
    "model.add(Dense(10, activation='softmax'))\n",
    "model.summary()"
   ]
  },
  {
   "cell_type": "markdown",
   "id": "2e2bdac8",
   "metadata": {
    "papermill": {
     "duration": 0.022081,
     "end_time": "2022-04-09T17:55:45.880239",
     "exception": false,
     "start_time": "2022-04-09T17:55:45.858158",
     "status": "completed"
    },
    "tags": []
   },
   "source": [
    "## Compilar - entrenar"
   ]
  },
  {
   "cell_type": "code",
   "execution_count": 9,
   "id": "57278ddb",
   "metadata": {
    "execution": {
     "iopub.execute_input": "2022-04-09T17:55:45.931103Z",
     "iopub.status.busy": "2022-04-09T17:55:45.927637Z",
     "iopub.status.idle": "2022-04-09T17:55:45.940531Z",
     "shell.execute_reply": "2022-04-09T17:55:45.940084Z",
     "shell.execute_reply.started": "2022-04-09T17:41:51.594008Z"
    },
    "papermill": {
     "duration": 0.038241,
     "end_time": "2022-04-09T17:55:45.940651",
     "exception": false,
     "start_time": "2022-04-09T17:55:45.902410",
     "status": "completed"
    },
    "tags": []
   },
   "outputs": [],
   "source": [
    "model.compile(loss='categorical_crossentropy',\n",
    "             optimizer='rmsprop',\n",
    "              metrics=['accuracy']\n",
    "             )"
   ]
  },
  {
   "cell_type": "code",
   "execution_count": 10,
   "id": "b1fe9036",
   "metadata": {
    "execution": {
     "iopub.execute_input": "2022-04-09T17:55:45.991201Z",
     "iopub.status.busy": "2022-04-09T17:55:45.990615Z",
     "iopub.status.idle": "2022-04-09T17:56:32.035388Z",
     "shell.execute_reply": "2022-04-09T17:56:32.035816Z",
     "shell.execute_reply.started": "2022-04-09T17:41:51.614334Z"
    },
    "papermill": {
     "duration": 46.072698,
     "end_time": "2022-04-09T17:56:32.035971",
     "exception": false,
     "start_time": "2022-04-09T17:55:45.963273",
     "status": "completed"
    },
    "tags": []
   },
   "outputs": [
    {
     "name": "stderr",
     "output_type": "stream",
     "text": [
      "2022-04-09 17:55:46.388740: I tensorflow/compiler/mlir/mlir_graph_optimization_pass.cc:185] None of the MLIR Optimization Passes are enabled (registered 2)\n"
     ]
    },
    {
     "name": "stdout",
     "output_type": "stream",
     "text": [
      "Epoch 1/10\n"
     ]
    },
    {
     "name": "stderr",
     "output_type": "stream",
     "text": [
      "2022-04-09 17:55:47.830119: I tensorflow/stream_executor/cuda/cuda_dnn.cc:369] Loaded cuDNN version 8005\n"
     ]
    },
    {
     "name": "stdout",
     "output_type": "stream",
     "text": [
      "938/938 [==============================] - 11s 4ms/step - loss: 0.5705 - accuracy: 0.7934\n",
      "Epoch 2/10\n",
      "938/938 [==============================] - 4s 4ms/step - loss: 0.3928 - accuracy: 0.8609\n",
      "Epoch 3/10\n",
      "938/938 [==============================] - 4s 4ms/step - loss: 0.3501 - accuracy: 0.8756\n",
      "Epoch 4/10\n",
      "938/938 [==============================] - 4s 4ms/step - loss: 0.3290 - accuracy: 0.8827\n",
      "Epoch 5/10\n",
      "938/938 [==============================] - 4s 5ms/step - loss: 0.3227 - accuracy: 0.8858\n",
      "Epoch 6/10\n",
      "938/938 [==============================] - 4s 4ms/step - loss: 0.3159 - accuracy: 0.8882\n",
      "Epoch 7/10\n",
      "938/938 [==============================] - 4s 4ms/step - loss: 0.3150 - accuracy: 0.8904\n",
      "Epoch 8/10\n",
      "938/938 [==============================] - 4s 4ms/step - loss: 0.3137 - accuracy: 0.8906\n",
      "Epoch 9/10\n",
      "938/938 [==============================] - 4s 4ms/step - loss: 0.3161 - accuracy: 0.8899\n",
      "Epoch 10/10\n",
      "938/938 [==============================] - 4s 4ms/step - loss: 0.3122 - accuracy: 0.8920\n"
     ]
    },
    {
     "data": {
      "text/plain": [
       "<keras.callbacks.History at 0x7f1dc92a4d90>"
      ]
     },
     "execution_count": 10,
     "metadata": {},
     "output_type": "execute_result"
    }
   ],
   "source": [
    "model.fit(train_images, train_labels, batch_size=64, epochs=10)"
   ]
  },
  {
   "cell_type": "code",
   "execution_count": 11,
   "id": "fa85826b",
   "metadata": {
    "execution": {
     "iopub.execute_input": "2022-04-09T17:56:32.557336Z",
     "iopub.status.busy": "2022-04-09T17:56:32.556414Z",
     "iopub.status.idle": "2022-04-09T17:56:33.378199Z",
     "shell.execute_reply": "2022-04-09T17:56:33.377772Z",
     "shell.execute_reply.started": "2022-04-09T17:42:38.868331Z"
    },
    "papermill": {
     "duration": 1.083585,
     "end_time": "2022-04-09T17:56:33.378329",
     "exception": false,
     "start_time": "2022-04-09T17:56:32.294744",
     "status": "completed"
    },
    "tags": []
   },
   "outputs": [
    {
     "data": {
      "text/plain": [
       "[0.3167097866535187, 0.897599995136261]"
      ]
     },
     "execution_count": 11,
     "metadata": {},
     "output_type": "execute_result"
    }
   ],
   "source": [
    "model.evaluate(test_images, test_labels, verbose=0)"
   ]
  },
  {
   "cell_type": "code",
   "execution_count": 12,
   "id": "b6edb1f4",
   "metadata": {
    "execution": {
     "iopub.execute_input": "2022-04-09T17:56:34.152443Z",
     "iopub.status.busy": "2022-04-09T17:56:34.150374Z",
     "iopub.status.idle": "2022-04-09T17:56:34.153064Z",
     "shell.execute_reply": "2022-04-09T17:56:34.153494Z",
     "shell.execute_reply.started": "2022-04-09T17:42:39.738799Z"
    },
    "papermill": {
     "duration": 0.394856,
     "end_time": "2022-04-09T17:56:34.153624",
     "exception": false,
     "start_time": "2022-04-09T17:56:33.758768",
     "status": "completed"
    },
    "tags": []
   },
   "outputs": [],
   "source": [
    "early = tf.keras.callbacks.EarlyStopping(monitor='accuracy', patience=1)"
   ]
  },
  {
   "cell_type": "code",
   "execution_count": 13,
   "id": "a08c7434",
   "metadata": {
    "execution": {
     "iopub.execute_input": "2022-04-09T17:56:34.672695Z",
     "iopub.status.busy": "2022-04-09T17:56:34.671797Z",
     "iopub.status.idle": "2022-04-09T17:56:47.177858Z",
     "shell.execute_reply": "2022-04-09T17:56:47.177370Z",
     "shell.execute_reply.started": "2022-04-09T17:43:29.635488Z"
    },
    "papermill": {
     "duration": 12.766452,
     "end_time": "2022-04-09T17:56:47.177984",
     "exception": false,
     "start_time": "2022-04-09T17:56:34.411532",
     "status": "completed"
    },
    "tags": []
   },
   "outputs": [
    {
     "name": "stdout",
     "output_type": "stream",
     "text": [
      "Epoch 1/10\n",
      "938/938 [==============================] - 4s 4ms/step - loss: 0.3111 - accuracy: 0.8915\n",
      "Epoch 2/10\n",
      "938/938 [==============================] - 4s 4ms/step - loss: 0.3162 - accuracy: 0.8924\n",
      "Epoch 3/10\n",
      "938/938 [==============================] - 5s 5ms/step - loss: 0.3158 - accuracy: 0.8914\n"
     ]
    },
    {
     "data": {
      "text/plain": [
       "<keras.callbacks.History at 0x7f1dc7e76090>"
      ]
     },
     "execution_count": 13,
     "metadata": {},
     "output_type": "execute_result"
    }
   ],
   "source": [
    "model.fit(train_images, train_labels, batch_size=64, callbacks=[early], epochs=10)"
   ]
  },
  {
   "cell_type": "code",
   "execution_count": 14,
   "id": "44c25cff",
   "metadata": {
    "execution": {
     "iopub.execute_input": "2022-04-09T17:56:47.894731Z",
     "iopub.status.busy": "2022-04-09T17:56:47.893810Z",
     "iopub.status.idle": "2022-04-09T17:57:27.421342Z",
     "shell.execute_reply": "2022-04-09T17:57:27.420776Z",
     "shell.execute_reply.started": "2022-04-09T17:47:33.199527Z"
    },
    "papermill": {
     "duration": 39.876886,
     "end_time": "2022-04-09T17:57:27.421486",
     "exception": false,
     "start_time": "2022-04-09T17:56:47.544600",
     "status": "completed"
    },
    "tags": []
   },
   "outputs": [
    {
     "name": "stdout",
     "output_type": "stream",
     "text": [
      "Epoch 1/10\n",
      "938/938 [==============================] - 4s 4ms/step - loss: 0.3184 - accuracy: 0.8907\n",
      "\n",
      "Epoch 00001: accuracy improved from -inf to 0.89068, saving model to mi_primer_red_conv.hdf5\n",
      "Epoch 2/10\n",
      "938/938 [==============================] - 4s 4ms/step - loss: 0.3171 - accuracy: 0.8917\n",
      "\n",
      "Epoch 00002: accuracy improved from 0.89068 to 0.89170, saving model to mi_primer_red_conv.hdf5\n",
      "Epoch 3/10\n",
      "938/938 [==============================] - 4s 4ms/step - loss: 0.3177 - accuracy: 0.8921\n",
      "\n",
      "Epoch 00003: accuracy improved from 0.89170 to 0.89215, saving model to mi_primer_red_conv.hdf5\n",
      "Epoch 4/10\n",
      "938/938 [==============================] - 4s 4ms/step - loss: 0.3224 - accuracy: 0.8900\n",
      "\n",
      "Epoch 00004: accuracy did not improve from 0.89215\n",
      "Epoch 5/10\n",
      "938/938 [==============================] - 4s 4ms/step - loss: 0.3238 - accuracy: 0.8917\n",
      "\n",
      "Epoch 00005: accuracy did not improve from 0.89215\n",
      "Epoch 6/10\n",
      "938/938 [==============================] - 4s 4ms/step - loss: 0.3260 - accuracy: 0.8904\n",
      "\n",
      "Epoch 00006: accuracy did not improve from 0.89215\n",
      "Epoch 7/10\n",
      "938/938 [==============================] - 4s 4ms/step - loss: 0.3268 - accuracy: 0.8892\n",
      "\n",
      "Epoch 00007: accuracy did not improve from 0.89215\n",
      "Epoch 8/10\n",
      "938/938 [==============================] - 5s 5ms/step - loss: 0.3281 - accuracy: 0.8893\n",
      "\n",
      "Epoch 00008: accuracy did not improve from 0.89215\n",
      "Epoch 9/10\n",
      "938/938 [==============================] - 4s 4ms/step - loss: 0.3319 - accuracy: 0.8887\n",
      "\n",
      "Epoch 00009: accuracy did not improve from 0.89215\n",
      "Epoch 10/10\n",
      "938/938 [==============================] - 4s 4ms/step - loss: 0.3326 - accuracy: 0.8868\n",
      "\n",
      "Epoch 00010: accuracy did not improve from 0.89215\n"
     ]
    },
    {
     "data": {
      "text/plain": [
       "<keras.callbacks.History at 0x7f1db811be50>"
      ]
     },
     "execution_count": 14,
     "metadata": {},
     "output_type": "execute_result"
    }
   ],
   "source": [
    "checkpoint = tf.keras.callbacks.ModelCheckpoint(filepath='mi_primer_red_conv.hdf5',\n",
    "                                               verbose=1,\n",
    "                                               monitor='accuracy',\n",
    "                                               save_best_only=True\n",
    "                                               )\n",
    "model.fit(train_images, train_labels, batch_size=64, callbacks=[checkpoint], epochs=10)"
   ]
  },
  {
   "cell_type": "markdown",
   "id": "b40e0a7c",
   "metadata": {
    "papermill": {
     "duration": 0.642205,
     "end_time": "2022-04-09T17:57:28.636695",
     "exception": false,
     "start_time": "2022-04-09T17:57:27.994490",
     "status": "completed"
    },
    "tags": []
   },
   "source": [
    "## Carga de mejor epoch"
   ]
  },
  {
   "cell_type": "code",
   "execution_count": 15,
   "id": "d348f328",
   "metadata": {
    "execution": {
     "iopub.execute_input": "2022-04-09T17:57:29.962973Z",
     "iopub.status.busy": "2022-04-09T17:57:29.962115Z",
     "iopub.status.idle": "2022-04-09T17:57:29.974667Z",
     "shell.execute_reply": "2022-04-09T17:57:29.974257Z",
     "shell.execute_reply.started": "2022-04-09T17:49:50.372206Z"
    },
    "papermill": {
     "duration": 0.583572,
     "end_time": "2022-04-09T17:57:29.974824",
     "exception": false,
     "start_time": "2022-04-09T17:57:29.391252",
     "status": "completed"
    },
    "tags": []
   },
   "outputs": [],
   "source": [
    "model2 = model\n",
    "model2.load_weights('./mi_primer_red_conv.hdf5')"
   ]
  },
  {
   "cell_type": "code",
   "execution_count": 16,
   "id": "4b38f5f4",
   "metadata": {
    "execution": {
     "iopub.execute_input": "2022-04-09T17:57:31.112139Z",
     "iopub.status.busy": "2022-04-09T17:57:31.111211Z",
     "iopub.status.idle": "2022-04-09T17:57:32.453618Z",
     "shell.execute_reply": "2022-04-09T17:57:32.454042Z",
     "shell.execute_reply.started": "2022-04-09T17:50:10.880758Z"
    },
    "papermill": {
     "duration": 1.908922,
     "end_time": "2022-04-09T17:57:32.454200",
     "exception": false,
     "start_time": "2022-04-09T17:57:30.545278",
     "status": "completed"
    },
    "tags": []
   },
   "outputs": [
    {
     "name": "stdout",
     "output_type": "stream",
     "text": [
      "313/313 [==============================] - 1s 2ms/step - loss: 0.3100 - accuracy: 0.9031\n"
     ]
    },
    {
     "data": {
      "text/plain": [
       "[0.30997735261917114, 0.9031000137329102]"
      ]
     },
     "execution_count": 16,
     "metadata": {},
     "output_type": "execute_result"
    }
   ],
   "source": [
    "model2.evaluate(test_images, test_labels)"
   ]
  }
 ],
 "metadata": {
  "kernelspec": {
   "display_name": "Python 3",
   "language": "python",
   "name": "python3"
  },
  "language_info": {
   "codemirror_mode": {
    "name": "ipython",
    "version": 3
   },
   "file_extension": ".py",
   "mimetype": "text/x-python",
   "name": "python",
   "nbconvert_exporter": "python",
   "pygments_lexer": "ipython3",
   "version": "3.7.12"
  },
  "papermill": {
   "default_parameters": {},
   "duration": 127.440298,
   "end_time": "2022-04-09T17:57:36.165899",
   "environment_variables": {},
   "exception": null,
   "input_path": "__notebook__.ipynb",
   "output_path": "__notebook__.ipynb",
   "parameters": {},
   "start_time": "2022-04-09T17:55:28.725601",
   "version": "2.3.3"
  }
 },
 "nbformat": 4,
 "nbformat_minor": 5
}
