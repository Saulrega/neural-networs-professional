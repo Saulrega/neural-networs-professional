{
 "cells": [
  {
   "cell_type": "code",
   "execution_count": 1,
   "id": "59eab82c",
   "metadata": {
    "execution": {
     "iopub.execute_input": "2022-04-09T19:46:39.152726Z",
     "iopub.status.busy": "2022-04-09T19:46:39.152208Z",
     "iopub.status.idle": "2022-04-09T19:46:44.347521Z",
     "shell.execute_reply": "2022-04-09T19:46:44.348395Z",
     "shell.execute_reply.started": "2022-04-09T19:12:25.429637Z"
    },
    "papermill": {
     "duration": 5.222316,
     "end_time": "2022-04-09T19:46:44.348698",
     "exception": false,
     "start_time": "2022-04-09T19:46:39.126382",
     "status": "completed"
    },
    "tags": []
   },
   "outputs": [],
   "source": [
    "import tensorflow as tf \n",
    "from tensorflow.keras.layers import Conv2D, MaxPooling2D, Dropout, Flatten, Dense\n",
    "from tensorflow.keras.preprocessing.image import ImageDataGenerator\n",
    "from tensorflow.keras.callbacks import ModelCheckpoint, EarlyStopping\n",
    "from  tensorflow.keras import models, optimizers, regularizers"
   ]
  },
  {
   "cell_type": "markdown",
   "id": "c2b5ac83",
   "metadata": {
    "papermill": {
     "duration": 0.013383,
     "end_time": "2022-04-09T19:46:44.376153",
     "exception": false,
     "start_time": "2022-04-09T19:46:44.362770",
     "status": "completed"
    },
    "tags": []
   },
   "source": [
    "## Creación del modelo convolucional"
   ]
  },
  {
   "cell_type": "code",
   "execution_count": 2,
   "id": "09610cb6",
   "metadata": {
    "execution": {
     "iopub.execute_input": "2022-04-09T19:46:44.405581Z",
     "iopub.status.busy": "2022-04-09T19:46:44.404587Z",
     "iopub.status.idle": "2022-04-09T19:46:46.700042Z",
     "shell.execute_reply": "2022-04-09T19:46:46.699430Z",
     "shell.execute_reply.started": "2022-04-09T19:12:30.675390Z"
    },
    "papermill": {
     "duration": 2.310929,
     "end_time": "2022-04-09T19:46:46.700209",
     "exception": false,
     "start_time": "2022-04-09T19:46:44.389280",
     "status": "completed"
    },
    "tags": []
   },
   "outputs": [
    {
     "name": "stderr",
     "output_type": "stream",
     "text": [
      "2022-04-09 19:46:44.475709: I tensorflow/stream_executor/cuda/cuda_gpu_executor.cc:937] successful NUMA node read from SysFS had negative value (-1), but there must be at least one NUMA node, so returning NUMA node zero\n",
      "2022-04-09 19:46:44.558403: I tensorflow/stream_executor/cuda/cuda_gpu_executor.cc:937] successful NUMA node read from SysFS had negative value (-1), but there must be at least one NUMA node, so returning NUMA node zero\n",
      "2022-04-09 19:46:44.559202: I tensorflow/stream_executor/cuda/cuda_gpu_executor.cc:937] successful NUMA node read from SysFS had negative value (-1), but there must be at least one NUMA node, so returning NUMA node zero\n"
     ]
    },
    {
     "name": "stdout",
     "output_type": "stream",
     "text": [
      "Model: \"sequential\"\n",
      "_________________________________________________________________\n",
      "Layer (type)                 Output Shape              Param #   \n",
      "=================================================================\n",
      "conv2d (Conv2D)              (None, 148, 148, 32)      896       \n",
      "_________________________________________________________________\n",
      "max_pooling2d (MaxPooling2D) (None, 74, 74, 32)        0         \n",
      "_________________________________________________________________\n",
      "conv2d_1 (Conv2D)            (None, 72, 72, 64)        18496     \n",
      "_________________________________________________________________\n",
      "max_pooling2d_1 (MaxPooling2 (None, 36, 36, 64)        0         \n",
      "_________________________________________________________________\n",
      "conv2d_2 (Conv2D)            (None, 34, 34, 128)       73856     \n",
      "_________________________________________________________________\n",
      "max_pooling2d_2 (MaxPooling2 (None, 17, 17, 128)       0         \n",
      "_________________________________________________________________\n",
      "conv2d_3 (Conv2D)            (None, 15, 15, 128)       147584    \n",
      "_________________________________________________________________\n",
      "max_pooling2d_3 (MaxPooling2 (None, 7, 7, 128)         0         \n",
      "_________________________________________________________________\n",
      "flatten (Flatten)            (None, 6272)              0         \n",
      "_________________________________________________________________\n",
      "dropout (Dropout)            (None, 6272)              0         \n",
      "_________________________________________________________________\n",
      "dense (Dense)                (None, 512)               3211776   \n",
      "_________________________________________________________________\n",
      "dense_1 (Dense)              (None, 1)                 513       \n",
      "=================================================================\n",
      "Total params: 3,453,121\n",
      "Trainable params: 3,453,121\n",
      "Non-trainable params: 0\n",
      "_________________________________________________________________\n"
     ]
    },
    {
     "name": "stderr",
     "output_type": "stream",
     "text": [
      "2022-04-09 19:46:44.560769: I tensorflow/core/platform/cpu_feature_guard.cc:142] This TensorFlow binary is optimized with oneAPI Deep Neural Network Library (oneDNN) to use the following CPU instructions in performance-critical operations:  AVX2 AVX512F FMA\n",
      "To enable them in other operations, rebuild TensorFlow with the appropriate compiler flags.\n",
      "2022-04-09 19:46:44.561702: I tensorflow/stream_executor/cuda/cuda_gpu_executor.cc:937] successful NUMA node read from SysFS had negative value (-1), but there must be at least one NUMA node, so returning NUMA node zero\n",
      "2022-04-09 19:46:44.562610: I tensorflow/stream_executor/cuda/cuda_gpu_executor.cc:937] successful NUMA node read from SysFS had negative value (-1), but there must be at least one NUMA node, so returning NUMA node zero\n",
      "2022-04-09 19:46:44.563490: I tensorflow/stream_executor/cuda/cuda_gpu_executor.cc:937] successful NUMA node read from SysFS had negative value (-1), but there must be at least one NUMA node, so returning NUMA node zero\n",
      "2022-04-09 19:46:46.288659: I tensorflow/stream_executor/cuda/cuda_gpu_executor.cc:937] successful NUMA node read from SysFS had negative value (-1), but there must be at least one NUMA node, so returning NUMA node zero\n",
      "2022-04-09 19:46:46.289529: I tensorflow/stream_executor/cuda/cuda_gpu_executor.cc:937] successful NUMA node read from SysFS had negative value (-1), but there must be at least one NUMA node, so returning NUMA node zero\n",
      "2022-04-09 19:46:46.290239: I tensorflow/stream_executor/cuda/cuda_gpu_executor.cc:937] successful NUMA node read from SysFS had negative value (-1), but there must be at least one NUMA node, so returning NUMA node zero\n",
      "2022-04-09 19:46:46.290852: I tensorflow/core/common_runtime/gpu/gpu_device.cc:1510] Created device /job:localhost/replica:0/task:0/device:GPU:0 with 15403 MB memory:  -> device: 0, name: Tesla P100-PCIE-16GB, pci bus id: 0000:00:04.0, compute capability: 6.0\n"
     ]
    }
   ],
   "source": [
    "model = models.Sequential()\n",
    "\n",
    "model.add(Conv2D(32, (3,3), activation= 'relu', input_shape=(150,150,3)))\n",
    "model.add(MaxPooling2D((2,2)))\n",
    "\n",
    "model.add(Conv2D(64, (3,3), activation = 'relu'))\n",
    "model.add(MaxPooling2D((2,2)))\n",
    "\n",
    "model.add(Conv2D(128, (3,3), activation = 'relu'))\n",
    "model.add(MaxPooling2D((2,2)))\n",
    "\n",
    "model.add(Conv2D(128, (3,3), activation = 'relu'))\n",
    "model.add(MaxPooling2D((2,2)))\n",
    "\n",
    "model.add(Flatten())\n",
    "model.add(Dropout(0.5))\n",
    "model.add(Dense(512, activation='relu'))\n",
    "model.add(Dense(1, activation='sigmoid'))\n",
    "\n",
    "model.summary()"
   ]
  },
  {
   "cell_type": "markdown",
   "id": "d3e08d42",
   "metadata": {
    "papermill": {
     "duration": 0.014494,
     "end_time": "2022-04-09T19:46:46.730571",
     "exception": false,
     "start_time": "2022-04-09T19:46:46.716077",
     "status": "completed"
    },
    "tags": []
   },
   "source": [
    "## Data augmentation"
   ]
  },
  {
   "cell_type": "code",
   "execution_count": 3,
   "id": "adbe01b2",
   "metadata": {
    "execution": {
     "iopub.execute_input": "2022-04-09T19:46:46.764871Z",
     "iopub.status.busy": "2022-04-09T19:46:46.764127Z",
     "iopub.status.idle": "2022-04-09T19:46:46.766633Z",
     "shell.execute_reply": "2022-04-09T19:46:46.766207Z",
     "shell.execute_reply.started": "2022-04-09T19:12:33.478473Z"
    },
    "papermill": {
     "duration": 0.021747,
     "end_time": "2022-04-09T19:46:46.766754",
     "exception": false,
     "start_time": "2022-04-09T19:46:46.745007",
     "status": "completed"
    },
    "tags": []
   },
   "outputs": [],
   "source": [
    "train_datagen = ImageDataGenerator(\n",
    "    rescale=1./255,\n",
    "    rotation_range=40,\n",
    "    width_shift_range=0.2,\n",
    "    height_shift_range=0.2,\n",
    "    shear_range=0.2,\n",
    "    zoom_range=0.2,\n",
    "    horizontal_flip=True\n",
    "    )"
   ]
  },
  {
   "cell_type": "markdown",
   "id": "8d96834a",
   "metadata": {
    "papermill": {
     "duration": 0.014342,
     "end_time": "2022-04-09T19:46:46.795513",
     "exception": false,
     "start_time": "2022-04-09T19:46:46.781171",
     "status": "completed"
    },
    "tags": []
   },
   "source": [
    "## Reescalar los datos"
   ]
  },
  {
   "cell_type": "code",
   "execution_count": 4,
   "id": "3c7b9d89",
   "metadata": {
    "execution": {
     "iopub.execute_input": "2022-04-09T19:46:46.829558Z",
     "iopub.status.busy": "2022-04-09T19:46:46.828830Z",
     "iopub.status.idle": "2022-04-09T19:46:46.831481Z",
     "shell.execute_reply": "2022-04-09T19:46:46.831015Z",
     "shell.execute_reply.started": "2022-04-09T19:12:33.497903Z"
    },
    "papermill": {
     "duration": 0.021634,
     "end_time": "2022-04-09T19:46:46.831588",
     "exception": false,
     "start_time": "2022-04-09T19:46:46.809954",
     "status": "completed"
    },
    "tags": []
   },
   "outputs": [],
   "source": [
    "test_datagen = ImageDataGenerator(rescale=1./255)"
   ]
  },
  {
   "cell_type": "code",
   "execution_count": 5,
   "id": "d1c1260b",
   "metadata": {
    "execution": {
     "iopub.execute_input": "2022-04-09T19:46:46.865737Z",
     "iopub.status.busy": "2022-04-09T19:46:46.865140Z",
     "iopub.status.idle": "2022-04-09T19:46:47.703320Z",
     "shell.execute_reply": "2022-04-09T19:46:47.703750Z",
     "shell.execute_reply.started": "2022-04-09T19:12:33.515759Z"
    },
    "papermill": {
     "duration": 0.857662,
     "end_time": "2022-04-09T19:46:47.703901",
     "exception": false,
     "start_time": "2022-04-09T19:46:46.846239",
     "status": "completed"
    },
    "tags": []
   },
   "outputs": [
    {
     "name": "stdout",
     "output_type": "stream",
     "text": [
      "Found 2000 images belonging to 2 classes.\n",
      "Found 1000 images belonging to 2 classes.\n"
     ]
    }
   ],
   "source": [
    "train_generator = train_datagen.flow_from_directory('../input/cnn-data-sources/cats_and_dogs/train',\n",
    "                                 target_size=(150,150),\n",
    "                                 batch_size=32,\n",
    "                                 class_mode='binary'\n",
    "                                 )\n",
    "\n",
    "validation_generator = test_datagen.flow_from_directory('../input/cnn-data-sources/cats_and_dogs/validation',\n",
    "                                 target_size=(150,150),\n",
    "                                 batch_size=32,\n",
    "                                 class_mode='binary'\n",
    "                                 )"
   ]
  },
  {
   "cell_type": "markdown",
   "id": "43ac64ee",
   "metadata": {
    "papermill": {
     "duration": 0.015062,
     "end_time": "2022-04-09T19:46:47.734055",
     "exception": false,
     "start_time": "2022-04-09T19:46:47.718993",
     "status": "completed"
    },
    "tags": []
   },
   "source": [
    "## Callbacks"
   ]
  },
  {
   "cell_type": "code",
   "execution_count": 6,
   "id": "22a769ee",
   "metadata": {
    "execution": {
     "iopub.execute_input": "2022-04-09T19:46:47.767289Z",
     "iopub.status.busy": "2022-04-09T19:46:47.766490Z",
     "iopub.status.idle": "2022-04-09T19:46:47.770926Z",
     "shell.execute_reply": "2022-04-09T19:46:47.770491Z",
     "shell.execute_reply.started": "2022-04-09T19:12:34.162952Z"
    },
    "papermill": {
     "duration": 0.021898,
     "end_time": "2022-04-09T19:46:47.771038",
     "exception": false,
     "start_time": "2022-04-09T19:46:47.749140",
     "status": "completed"
    },
    "tags": []
   },
   "outputs": [],
   "source": [
    "checkpoint = ModelCheckpoint('modelo_perros_gatos.hdf5',monitor='val_accuracy', verbose= 1, save_best_only=True)"
   ]
  },
  {
   "cell_type": "markdown",
   "id": "7b0fd742",
   "metadata": {
    "papermill": {
     "duration": 0.015294,
     "end_time": "2022-04-09T19:46:47.801215",
     "exception": false,
     "start_time": "2022-04-09T19:46:47.785921",
     "status": "completed"
    },
    "tags": []
   },
   "source": [
    "## Compilando el modelo"
   ]
  },
  {
   "cell_type": "code",
   "execution_count": 7,
   "id": "d4d85bbb",
   "metadata": {
    "execution": {
     "iopub.execute_input": "2022-04-09T19:46:47.836274Z",
     "iopub.status.busy": "2022-04-09T19:46:47.835524Z",
     "iopub.status.idle": "2022-04-09T19:46:47.846238Z",
     "shell.execute_reply": "2022-04-09T19:46:47.846650Z",
     "shell.execute_reply.started": "2022-04-09T19:12:34.169634Z"
    },
    "papermill": {
     "duration": 0.030356,
     "end_time": "2022-04-09T19:46:47.846769",
     "exception": false,
     "start_time": "2022-04-09T19:46:47.816413",
     "status": "completed"
    },
    "tags": []
   },
   "outputs": [],
   "source": [
    "model.compile(loss='binary_crossentropy', optimizer =optimizers.Adam(),\n",
    "             metrics=['accuracy'])"
   ]
  },
  {
   "cell_type": "markdown",
   "id": "66a75bc0",
   "metadata": {
    "papermill": {
     "duration": 0.016173,
     "end_time": "2022-04-09T19:46:47.878088",
     "exception": false,
     "start_time": "2022-04-09T19:46:47.861915",
     "status": "completed"
    },
    "tags": []
   },
   "source": [
    "## Entrenando el modelo"
   ]
  },
  {
   "cell_type": "code",
   "execution_count": 8,
   "id": "38fbd596",
   "metadata": {
    "execution": {
     "iopub.execute_input": "2022-04-09T19:46:47.912077Z",
     "iopub.status.busy": "2022-04-09T19:46:47.911433Z",
     "iopub.status.idle": "2022-04-09T20:19:21.315963Z",
     "shell.execute_reply": "2022-04-09T20:19:21.316434Z",
     "shell.execute_reply.started": "2022-04-09T19:12:34.189365Z"
    },
    "papermill": {
     "duration": 1953.423634,
     "end_time": "2022-04-09T20:19:21.316587",
     "exception": false,
     "start_time": "2022-04-09T19:46:47.892953",
     "status": "completed"
    },
    "tags": []
   },
   "outputs": [
    {
     "name": "stderr",
     "output_type": "stream",
     "text": [
      "2022-04-09 19:46:48.357458: I tensorflow/compiler/mlir/mlir_graph_optimization_pass.cc:185] None of the MLIR Optimization Passes are enabled (registered 2)\n"
     ]
    },
    {
     "name": "stdout",
     "output_type": "stream",
     "text": [
      "Epoch 1/100\n"
     ]
    },
    {
     "name": "stderr",
     "output_type": "stream",
     "text": [
      "2022-04-09 19:46:50.029825: I tensorflow/stream_executor/cuda/cuda_dnn.cc:369] Loaded cuDNN version 8005\n"
     ]
    },
    {
     "name": "stdout",
     "output_type": "stream",
     "text": [
      "62/62 [==============================] - 37s 494ms/step - loss: 0.6985 - accuracy: 0.5005 - val_loss: 0.6928 - val_accuracy: 0.5010\n",
      "\n",
      "Epoch 00001: val_accuracy improved from -inf to 0.50101, saving model to modelo_perros_gatos.hdf5\n",
      "Epoch 2/100\n",
      "62/62 [==============================] - 17s 281ms/step - loss: 0.6936 - accuracy: 0.5061 - val_loss: 0.6920 - val_accuracy: 0.5020\n",
      "\n",
      "Epoch 00002: val_accuracy improved from 0.50101 to 0.50202, saving model to modelo_perros_gatos.hdf5\n",
      "Epoch 3/100\n",
      "62/62 [==============================] - 17s 273ms/step - loss: 0.6937 - accuracy: 0.4929 - val_loss: 0.6923 - val_accuracy: 0.5474\n",
      "\n",
      "Epoch 00003: val_accuracy improved from 0.50202 to 0.54738, saving model to modelo_perros_gatos.hdf5\n",
      "Epoch 4/100\n",
      "62/62 [==============================] - 18s 286ms/step - loss: 0.6919 - accuracy: 0.5137 - val_loss: 0.7088 - val_accuracy: 0.5121\n",
      "\n",
      "Epoch 00004: val_accuracy did not improve from 0.54738\n",
      "Epoch 5/100\n",
      "62/62 [==============================] - 17s 276ms/step - loss: 0.6929 - accuracy: 0.5010 - val_loss: 0.6889 - val_accuracy: 0.5010\n",
      "\n",
      "Epoch 00005: val_accuracy did not improve from 0.54738\n",
      "Epoch 6/100\n",
      "62/62 [==============================] - 18s 286ms/step - loss: 0.6894 - accuracy: 0.5005 - val_loss: 0.6930 - val_accuracy: 0.5010\n",
      "\n",
      "Epoch 00006: val_accuracy did not improve from 0.54738\n",
      "Epoch 7/100\n",
      "62/62 [==============================] - 17s 277ms/step - loss: 0.6938 - accuracy: 0.5020 - val_loss: 0.6928 - val_accuracy: 0.5121\n",
      "\n",
      "Epoch 00007: val_accuracy did not improve from 0.54738\n",
      "Epoch 8/100\n",
      "62/62 [==============================] - 18s 284ms/step - loss: 0.6881 - accuracy: 0.5356 - val_loss: 0.6807 - val_accuracy: 0.5817\n",
      "\n",
      "Epoch 00008: val_accuracy improved from 0.54738 to 0.58165, saving model to modelo_perros_gatos.hdf5\n",
      "Epoch 9/100\n",
      "62/62 [==============================] - 18s 290ms/step - loss: 0.6883 - accuracy: 0.5518 - val_loss: 0.6860 - val_accuracy: 0.5454\n",
      "\n",
      "Epoch 00009: val_accuracy did not improve from 0.58165\n",
      "Epoch 10/100\n",
      "62/62 [==============================] - 17s 277ms/step - loss: 0.6913 - accuracy: 0.5193 - val_loss: 0.6901 - val_accuracy: 0.5282\n",
      "\n",
      "Epoch 00010: val_accuracy did not improve from 0.58165\n",
      "Epoch 11/100\n",
      "62/62 [==============================] - 18s 283ms/step - loss: 0.6862 - accuracy: 0.5498 - val_loss: 0.6929 - val_accuracy: 0.5071\n",
      "\n",
      "Epoch 00011: val_accuracy did not improve from 0.58165\n",
      "Epoch 12/100\n",
      "62/62 [==============================] - 17s 276ms/step - loss: 0.6917 - accuracy: 0.5203 - val_loss: 0.6850 - val_accuracy: 0.5524\n",
      "\n",
      "Epoch 00012: val_accuracy did not improve from 0.58165\n",
      "Epoch 13/100\n",
      "62/62 [==============================] - 18s 296ms/step - loss: 0.6811 - accuracy: 0.5554 - val_loss: 0.6802 - val_accuracy: 0.5595\n",
      "\n",
      "Epoch 00013: val_accuracy did not improve from 0.58165\n",
      "Epoch 14/100\n",
      "62/62 [==============================] - 17s 279ms/step - loss: 0.6865 - accuracy: 0.5478 - val_loss: 0.6939 - val_accuracy: 0.5050\n",
      "\n",
      "Epoch 00014: val_accuracy did not improve from 0.58165\n",
      "Epoch 15/100\n",
      "62/62 [==============================] - 17s 275ms/step - loss: 0.6918 - accuracy: 0.5137 - val_loss: 0.6830 - val_accuracy: 0.5464\n",
      "\n",
      "Epoch 00015: val_accuracy did not improve from 0.58165\n",
      "Epoch 16/100\n",
      "62/62 [==============================] - 18s 288ms/step - loss: 0.6908 - accuracy: 0.5259 - val_loss: 0.6872 - val_accuracy: 0.5393\n",
      "\n",
      "Epoch 00016: val_accuracy did not improve from 0.58165\n",
      "Epoch 17/100\n",
      "62/62 [==============================] - 17s 274ms/step - loss: 0.6822 - accuracy: 0.5661 - val_loss: 0.6843 - val_accuracy: 0.5524\n",
      "\n",
      "Epoch 00017: val_accuracy did not improve from 0.58165\n",
      "Epoch 18/100\n",
      "62/62 [==============================] - 18s 295ms/step - loss: 0.6793 - accuracy: 0.5574 - val_loss: 0.6720 - val_accuracy: 0.5847\n",
      "\n",
      "Epoch 00018: val_accuracy improved from 0.58165 to 0.58468, saving model to modelo_perros_gatos.hdf5\n",
      "Epoch 19/100\n",
      "62/62 [==============================] - 17s 282ms/step - loss: 0.6864 - accuracy: 0.5645 - val_loss: 0.6878 - val_accuracy: 0.5524\n",
      "\n",
      "Epoch 00019: val_accuracy did not improve from 0.58468\n",
      "Epoch 20/100\n",
      "62/62 [==============================] - 18s 287ms/step - loss: 0.6810 - accuracy: 0.5640 - val_loss: 0.6844 - val_accuracy: 0.5494\n",
      "\n",
      "Epoch 00020: val_accuracy did not improve from 0.58468\n",
      "Epoch 21/100\n",
      "62/62 [==============================] - 18s 294ms/step - loss: 0.6760 - accuracy: 0.5950 - val_loss: 0.6839 - val_accuracy: 0.5665\n",
      "\n",
      "Epoch 00021: val_accuracy did not improve from 0.58468\n",
      "Epoch 22/100\n",
      "62/62 [==============================] - 17s 279ms/step - loss: 0.6828 - accuracy: 0.5610 - val_loss: 0.6825 - val_accuracy: 0.5565\n",
      "\n",
      "Epoch 00022: val_accuracy did not improve from 0.58468\n",
      "Epoch 23/100\n",
      "62/62 [==============================] - 18s 284ms/step - loss: 0.6860 - accuracy: 0.5437 - val_loss: 0.6765 - val_accuracy: 0.5857\n",
      "\n",
      "Epoch 00023: val_accuracy improved from 0.58468 to 0.58569, saving model to modelo_perros_gatos.hdf5\n",
      "Epoch 24/100\n",
      "62/62 [==============================] - 17s 282ms/step - loss: 0.6833 - accuracy: 0.5640 - val_loss: 0.6680 - val_accuracy: 0.5927\n",
      "\n",
      "Epoch 00024: val_accuracy improved from 0.58569 to 0.59274, saving model to modelo_perros_gatos.hdf5\n",
      "Epoch 25/100\n",
      "62/62 [==============================] - 18s 286ms/step - loss: 0.6755 - accuracy: 0.5711 - val_loss: 0.6546 - val_accuracy: 0.6361\n",
      "\n",
      "Epoch 00025: val_accuracy improved from 0.59274 to 0.63609, saving model to modelo_perros_gatos.hdf5\n",
      "Epoch 26/100\n",
      "62/62 [==============================] - 17s 279ms/step - loss: 0.6598 - accuracy: 0.6275 - val_loss: 0.6573 - val_accuracy: 0.6008\n",
      "\n",
      "Epoch 00026: val_accuracy did not improve from 0.63609\n",
      "Epoch 27/100\n",
      "62/62 [==============================] - 18s 293ms/step - loss: 0.6464 - accuracy: 0.6372 - val_loss: 0.6434 - val_accuracy: 0.6552\n",
      "\n",
      "Epoch 00027: val_accuracy improved from 0.63609 to 0.65524, saving model to modelo_perros_gatos.hdf5\n",
      "Epoch 28/100\n",
      "62/62 [==============================] - 18s 291ms/step - loss: 0.6694 - accuracy: 0.6016 - val_loss: 0.6782 - val_accuracy: 0.5827\n",
      "\n",
      "Epoch 00028: val_accuracy did not improve from 0.65524\n",
      "Epoch 29/100\n",
      "62/62 [==============================] - 17s 281ms/step - loss: 0.6588 - accuracy: 0.6128 - val_loss: 0.6136 - val_accuracy: 0.6734\n",
      "\n",
      "Epoch 00029: val_accuracy improved from 0.65524 to 0.67339, saving model to modelo_perros_gatos.hdf5\n",
      "Epoch 30/100\n",
      "62/62 [==============================] - 18s 284ms/step - loss: 0.6238 - accuracy: 0.6428 - val_loss: 0.6117 - val_accuracy: 0.6885\n",
      "\n",
      "Epoch 00030: val_accuracy improved from 0.67339 to 0.68851, saving model to modelo_perros_gatos.hdf5\n",
      "Epoch 31/100\n",
      "62/62 [==============================] - 17s 282ms/step - loss: 0.6172 - accuracy: 0.6738 - val_loss: 0.5911 - val_accuracy: 0.6835\n",
      "\n",
      "Epoch 00031: val_accuracy did not improve from 0.68851\n",
      "Epoch 32/100\n",
      "62/62 [==============================] - 18s 297ms/step - loss: 0.6097 - accuracy: 0.6692 - val_loss: 0.6040 - val_accuracy: 0.6815\n",
      "\n",
      "Epoch 00032: val_accuracy did not improve from 0.68851\n",
      "Epoch 33/100\n",
      "62/62 [==============================] - 17s 277ms/step - loss: 0.5798 - accuracy: 0.7027 - val_loss: 0.5836 - val_accuracy: 0.6804\n",
      "\n",
      "Epoch 00033: val_accuracy did not improve from 0.68851\n",
      "Epoch 34/100\n",
      "62/62 [==============================] - 18s 291ms/step - loss: 0.5887 - accuracy: 0.6850 - val_loss: 0.5881 - val_accuracy: 0.6734\n",
      "\n",
      "Epoch 00034: val_accuracy did not improve from 0.68851\n",
      "Epoch 35/100\n",
      "62/62 [==============================] - 18s 290ms/step - loss: 0.5923 - accuracy: 0.6875 - val_loss: 0.5737 - val_accuracy: 0.7087\n",
      "\n",
      "Epoch 00035: val_accuracy improved from 0.68851 to 0.70867, saving model to modelo_perros_gatos.hdf5\n",
      "Epoch 36/100\n",
      "62/62 [==============================] - 17s 280ms/step - loss: 0.5791 - accuracy: 0.7129 - val_loss: 0.5513 - val_accuracy: 0.7188\n",
      "\n",
      "Epoch 00036: val_accuracy improved from 0.70867 to 0.71875, saving model to modelo_perros_gatos.hdf5\n",
      "Epoch 37/100\n",
      "62/62 [==============================] - 18s 292ms/step - loss: 0.5747 - accuracy: 0.7063 - val_loss: 0.5419 - val_accuracy: 0.7097\n",
      "\n",
      "Epoch 00037: val_accuracy did not improve from 0.71875\n",
      "Epoch 38/100\n",
      "62/62 [==============================] - 17s 278ms/step - loss: 0.6167 - accuracy: 0.6636 - val_loss: 0.5586 - val_accuracy: 0.7097\n",
      "\n",
      "Epoch 00038: val_accuracy did not improve from 0.71875\n",
      "Epoch 39/100\n",
      "62/62 [==============================] - 18s 295ms/step - loss: 0.5640 - accuracy: 0.7297 - val_loss: 0.5458 - val_accuracy: 0.7167\n",
      "\n",
      "Epoch 00039: val_accuracy did not improve from 0.71875\n",
      "Epoch 40/100\n",
      "62/62 [==============================] - 18s 284ms/step - loss: 0.5732 - accuracy: 0.7043 - val_loss: 0.5666 - val_accuracy: 0.7177\n",
      "\n",
      "Epoch 00040: val_accuracy did not improve from 0.71875\n",
      "Epoch 41/100\n",
      "62/62 [==============================] - 17s 278ms/step - loss: 0.5455 - accuracy: 0.7342 - val_loss: 0.5404 - val_accuracy: 0.7107\n",
      "\n",
      "Epoch 00041: val_accuracy did not improve from 0.71875\n",
      "Epoch 42/100\n",
      "62/62 [==============================] - 18s 299ms/step - loss: 0.5601 - accuracy: 0.7149 - val_loss: 0.5167 - val_accuracy: 0.7460\n",
      "\n",
      "Epoch 00042: val_accuracy improved from 0.71875 to 0.74597, saving model to modelo_perros_gatos.hdf5\n",
      "Epoch 43/100\n",
      "62/62 [==============================] - 17s 276ms/step - loss: 0.5465 - accuracy: 0.7266 - val_loss: 0.5851 - val_accuracy: 0.7087\n",
      "\n",
      "Epoch 00043: val_accuracy did not improve from 0.74597\n",
      "Epoch 44/100\n",
      "62/62 [==============================] - 19s 301ms/step - loss: 0.5464 - accuracy: 0.7363 - val_loss: 0.5306 - val_accuracy: 0.7399\n",
      "\n",
      "Epoch 00044: val_accuracy did not improve from 0.74597\n",
      "Epoch 45/100\n",
      "62/62 [==============================] - 17s 281ms/step - loss: 0.5474 - accuracy: 0.7271 - val_loss: 0.5249 - val_accuracy: 0.7339\n",
      "\n",
      "Epoch 00045: val_accuracy did not improve from 0.74597\n",
      "Epoch 46/100\n",
      "62/62 [==============================] - 17s 271ms/step - loss: 0.5588 - accuracy: 0.7215 - val_loss: 0.5506 - val_accuracy: 0.7278\n",
      "\n",
      "Epoch 00046: val_accuracy did not improve from 0.74597\n",
      "Epoch 47/100\n",
      "62/62 [==============================] - 19s 300ms/step - loss: 0.5404 - accuracy: 0.7261 - val_loss: 0.5415 - val_accuracy: 0.7308\n",
      "\n",
      "Epoch 00047: val_accuracy did not improve from 0.74597\n",
      "Epoch 48/100\n",
      "62/62 [==============================] - 17s 273ms/step - loss: 0.5339 - accuracy: 0.7439 - val_loss: 0.5220 - val_accuracy: 0.7329\n",
      "\n",
      "Epoch 00048: val_accuracy did not improve from 0.74597\n",
      "Epoch 49/100\n",
      "62/62 [==============================] - 19s 304ms/step - loss: 0.5232 - accuracy: 0.7490 - val_loss: 0.4959 - val_accuracy: 0.7581\n",
      "\n",
      "Epoch 00049: val_accuracy improved from 0.74597 to 0.75806, saving model to modelo_perros_gatos.hdf5\n",
      "Epoch 50/100\n",
      "62/62 [==============================] - 19s 300ms/step - loss: 0.5294 - accuracy: 0.7419 - val_loss: 0.4813 - val_accuracy: 0.7692\n",
      "\n",
      "Epoch 00050: val_accuracy improved from 0.75806 to 0.76915, saving model to modelo_perros_gatos.hdf5\n",
      "Epoch 51/100\n",
      "62/62 [==============================] - 17s 277ms/step - loss: 0.4969 - accuracy: 0.7541 - val_loss: 0.4704 - val_accuracy: 0.7651\n",
      "\n",
      "Epoch 00051: val_accuracy did not improve from 0.76915\n",
      "Epoch 52/100\n",
      "62/62 [==============================] - 19s 302ms/step - loss: 0.5175 - accuracy: 0.7500 - val_loss: 0.4656 - val_accuracy: 0.7742\n",
      "\n",
      "Epoch 00052: val_accuracy improved from 0.76915 to 0.77419, saving model to modelo_perros_gatos.hdf5\n",
      "Epoch 53/100\n",
      "62/62 [==============================] - 18s 283ms/step - loss: 0.5083 - accuracy: 0.7658 - val_loss: 0.5046 - val_accuracy: 0.7530\n",
      "\n",
      "Epoch 00053: val_accuracy did not improve from 0.77419\n",
      "Epoch 54/100\n",
      "62/62 [==============================] - 20s 318ms/step - loss: 0.5173 - accuracy: 0.7505 - val_loss: 0.5012 - val_accuracy: 0.7621\n",
      "\n",
      "Epoch 00054: val_accuracy did not improve from 0.77419\n",
      "Epoch 55/100\n",
      "62/62 [==============================] - 19s 299ms/step - loss: 0.5134 - accuracy: 0.7530 - val_loss: 0.4983 - val_accuracy: 0.7490\n",
      "\n",
      "Epoch 00055: val_accuracy did not improve from 0.77419\n",
      "Epoch 56/100\n",
      "62/62 [==============================] - 17s 274ms/step - loss: 0.4959 - accuracy: 0.7556 - val_loss: 0.5419 - val_accuracy: 0.7248\n",
      "\n",
      "Epoch 00056: val_accuracy did not improve from 0.77419\n",
      "Epoch 57/100\n",
      "62/62 [==============================] - 19s 299ms/step - loss: 0.4936 - accuracy: 0.7642 - val_loss: 0.4984 - val_accuracy: 0.7480\n",
      "\n",
      "Epoch 00057: val_accuracy did not improve from 0.77419\n",
      "Epoch 58/100\n",
      "62/62 [==============================] - 17s 277ms/step - loss: 0.5034 - accuracy: 0.7566 - val_loss: 0.4876 - val_accuracy: 0.7762\n",
      "\n",
      "Epoch 00058: val_accuracy improved from 0.77419 to 0.77621, saving model to modelo_perros_gatos.hdf5\n",
      "Epoch 59/100\n",
      "62/62 [==============================] - 19s 303ms/step - loss: 0.4682 - accuracy: 0.7835 - val_loss: 0.4823 - val_accuracy: 0.7772\n",
      "\n",
      "Epoch 00059: val_accuracy improved from 0.77621 to 0.77722, saving model to modelo_perros_gatos.hdf5\n",
      "Epoch 60/100\n",
      "62/62 [==============================] - 18s 285ms/step - loss: 0.4837 - accuracy: 0.7637 - val_loss: 0.4769 - val_accuracy: 0.7692\n",
      "\n",
      "Epoch 00060: val_accuracy did not improve from 0.77722\n",
      "Epoch 61/100\n",
      "62/62 [==============================] - 17s 278ms/step - loss: 0.4730 - accuracy: 0.7718 - val_loss: 0.4340 - val_accuracy: 0.7984\n",
      "\n",
      "Epoch 00061: val_accuracy improved from 0.77722 to 0.79839, saving model to modelo_perros_gatos.hdf5\n",
      "Epoch 62/100\n",
      "62/62 [==============================] - 19s 307ms/step - loss: 0.4720 - accuracy: 0.7749 - val_loss: 0.4597 - val_accuracy: 0.7792\n",
      "\n",
      "Epoch 00062: val_accuracy did not improve from 0.79839\n",
      "Epoch 63/100\n",
      "62/62 [==============================] - 17s 274ms/step - loss: 0.4872 - accuracy: 0.7678 - val_loss: 0.4926 - val_accuracy: 0.7581\n",
      "\n",
      "Epoch 00063: val_accuracy did not improve from 0.79839\n",
      "Epoch 64/100\n",
      "62/62 [==============================] - 19s 302ms/step - loss: 0.4758 - accuracy: 0.7861 - val_loss: 0.4311 - val_accuracy: 0.8024\n",
      "\n",
      "Epoch 00064: val_accuracy improved from 0.79839 to 0.80242, saving model to modelo_perros_gatos.hdf5\n",
      "Epoch 65/100\n",
      "62/62 [==============================] - 18s 289ms/step - loss: 0.4648 - accuracy: 0.7846 - val_loss: 0.4542 - val_accuracy: 0.8014\n",
      "\n",
      "Epoch 00065: val_accuracy did not improve from 0.80242\n",
      "Epoch 66/100\n",
      "62/62 [==============================] - 18s 285ms/step - loss: 0.4303 - accuracy: 0.8084 - val_loss: 0.4527 - val_accuracy: 0.7903\n",
      "\n",
      "Epoch 00066: val_accuracy did not improve from 0.80242\n",
      "Epoch 67/100\n",
      "62/62 [==============================] - 19s 306ms/step - loss: 0.4501 - accuracy: 0.7876 - val_loss: 0.4371 - val_accuracy: 0.7823\n",
      "\n",
      "Epoch 00067: val_accuracy did not improve from 0.80242\n",
      "Epoch 68/100\n",
      "62/62 [==============================] - 17s 277ms/step - loss: 0.4300 - accuracy: 0.7901 - val_loss: 0.5601 - val_accuracy: 0.7591\n",
      "\n",
      "Epoch 00068: val_accuracy did not improve from 0.80242\n",
      "Epoch 69/100\n",
      "62/62 [==============================] - 19s 303ms/step - loss: 0.4252 - accuracy: 0.8171 - val_loss: 0.4445 - val_accuracy: 0.8065\n",
      "\n",
      "Epoch 00069: val_accuracy improved from 0.80242 to 0.80645, saving model to modelo_perros_gatos.hdf5\n",
      "Epoch 70/100\n",
      "62/62 [==============================] - 19s 314ms/step - loss: 0.4616 - accuracy: 0.7749 - val_loss: 0.5119 - val_accuracy: 0.7560\n",
      "\n",
      "Epoch 00070: val_accuracy did not improve from 0.80645\n",
      "Epoch 71/100\n",
      "62/62 [==============================] - 18s 288ms/step - loss: 0.4319 - accuracy: 0.8023 - val_loss: 0.4726 - val_accuracy: 0.7792\n",
      "\n",
      "Epoch 00071: val_accuracy did not improve from 0.80645\n",
      "Epoch 72/100\n",
      "62/62 [==============================] - 19s 311ms/step - loss: 0.4476 - accuracy: 0.7932 - val_loss: 0.4470 - val_accuracy: 0.7944\n",
      "\n",
      "Epoch 00072: val_accuracy did not improve from 0.80645\n",
      "Epoch 73/100\n",
      "62/62 [==============================] - 17s 278ms/step - loss: 0.4256 - accuracy: 0.8095 - val_loss: 0.5148 - val_accuracy: 0.7853\n",
      "\n",
      "Epoch 00073: val_accuracy did not improve from 0.80645\n",
      "Epoch 74/100\n",
      "62/62 [==============================] - 19s 306ms/step - loss: 0.4306 - accuracy: 0.8100 - val_loss: 0.4407 - val_accuracy: 0.7974\n",
      "\n",
      "Epoch 00074: val_accuracy did not improve from 0.80645\n",
      "Epoch 75/100\n",
      "62/62 [==============================] - 17s 275ms/step - loss: 0.4126 - accuracy: 0.8201 - val_loss: 0.4394 - val_accuracy: 0.8155\n",
      "\n",
      "Epoch 00075: val_accuracy improved from 0.80645 to 0.81552, saving model to modelo_perros_gatos.hdf5\n",
      "Epoch 76/100\n",
      "62/62 [==============================] - 19s 308ms/step - loss: 0.4106 - accuracy: 0.8110 - val_loss: 0.4614 - val_accuracy: 0.7863\n",
      "\n",
      "Epoch 00076: val_accuracy did not improve from 0.81552\n",
      "Epoch 77/100\n",
      "62/62 [==============================] - 18s 285ms/step - loss: 0.4133 - accuracy: 0.8084 - val_loss: 0.4642 - val_accuracy: 0.7903\n",
      "\n",
      "Epoch 00077: val_accuracy did not improve from 0.81552\n",
      "Epoch 78/100\n",
      "62/62 [==============================] - 18s 290ms/step - loss: 0.4016 - accuracy: 0.8191 - val_loss: 0.4454 - val_accuracy: 0.8054\n",
      "\n",
      "Epoch 00078: val_accuracy did not improve from 0.81552\n",
      "Epoch 79/100\n",
      "62/62 [==============================] - 19s 306ms/step - loss: 0.4077 - accuracy: 0.8181 - val_loss: 0.4186 - val_accuracy: 0.8145\n",
      "\n",
      "Epoch 00079: val_accuracy did not improve from 0.81552\n",
      "Epoch 80/100\n",
      "62/62 [==============================] - 17s 278ms/step - loss: 0.4089 - accuracy: 0.8130 - val_loss: 0.4313 - val_accuracy: 0.8065\n",
      "\n",
      "Epoch 00080: val_accuracy did not improve from 0.81552\n",
      "Epoch 81/100\n",
      "62/62 [==============================] - 19s 306ms/step - loss: 0.4111 - accuracy: 0.8100 - val_loss: 0.4493 - val_accuracy: 0.8054\n",
      "\n",
      "Epoch 00081: val_accuracy did not improve from 0.81552\n",
      "Epoch 82/100\n",
      "62/62 [==============================] - 17s 274ms/step - loss: 0.4025 - accuracy: 0.8232 - val_loss: 0.4619 - val_accuracy: 0.7964\n",
      "\n",
      "Epoch 00082: val_accuracy did not improve from 0.81552\n",
      "Epoch 83/100\n",
      "62/62 [==============================] - 18s 299ms/step - loss: 0.3900 - accuracy: 0.8222 - val_loss: 0.4517 - val_accuracy: 0.8024\n",
      "\n",
      "Epoch 00083: val_accuracy did not improve from 0.81552\n",
      "Epoch 84/100\n",
      "62/62 [==============================] - 19s 310ms/step - loss: 0.3983 - accuracy: 0.8211 - val_loss: 0.5201 - val_accuracy: 0.7601\n",
      "\n",
      "Epoch 00084: val_accuracy did not improve from 0.81552\n",
      "Epoch 85/100\n",
      "62/62 [==============================] - 17s 280ms/step - loss: 0.4051 - accuracy: 0.8125 - val_loss: 0.4113 - val_accuracy: 0.8125\n",
      "\n",
      "Epoch 00085: val_accuracy did not improve from 0.81552\n",
      "Epoch 86/100\n",
      "62/62 [==============================] - 19s 307ms/step - loss: 0.3778 - accuracy: 0.8298 - val_loss: 0.4087 - val_accuracy: 0.8185\n",
      "\n",
      "Epoch 00086: val_accuracy improved from 0.81552 to 0.81855, saving model to modelo_perros_gatos.hdf5\n",
      "Epoch 87/100\n",
      "62/62 [==============================] - 18s 284ms/step - loss: 0.3920 - accuracy: 0.8303 - val_loss: 0.3997 - val_accuracy: 0.8155\n",
      "\n",
      "Epoch 00087: val_accuracy did not improve from 0.81855\n",
      "Epoch 88/100\n",
      "62/62 [==============================] - 19s 303ms/step - loss: 0.3606 - accuracy: 0.8369 - val_loss: 0.4174 - val_accuracy: 0.8185\n",
      "\n",
      "Epoch 00088: val_accuracy did not improve from 0.81855\n",
      "Epoch 89/100\n",
      "62/62 [==============================] - 18s 292ms/step - loss: 0.3600 - accuracy: 0.8399 - val_loss: 0.4571 - val_accuracy: 0.7984\n",
      "\n",
      "Epoch 00089: val_accuracy did not improve from 0.81855\n",
      "Epoch 90/100\n",
      "62/62 [==============================] - 18s 284ms/step - loss: 0.3404 - accuracy: 0.8481 - val_loss: 0.3886 - val_accuracy: 0.8327\n",
      "\n",
      "Epoch 00090: val_accuracy improved from 0.81855 to 0.83266, saving model to modelo_perros_gatos.hdf5\n",
      "Epoch 91/100\n",
      "62/62 [==============================] - 19s 310ms/step - loss: 0.3603 - accuracy: 0.8465 - val_loss: 0.4999 - val_accuracy: 0.7823\n",
      "\n",
      "Epoch 00091: val_accuracy did not improve from 0.83266\n",
      "Epoch 92/100\n",
      "62/62 [==============================] - 18s 286ms/step - loss: 0.3816 - accuracy: 0.8196 - val_loss: 0.4137 - val_accuracy: 0.8206\n",
      "\n",
      "Epoch 00092: val_accuracy did not improve from 0.83266\n",
      "Epoch 93/100\n",
      "62/62 [==============================] - 19s 300ms/step - loss: 0.3516 - accuracy: 0.8526 - val_loss: 0.3915 - val_accuracy: 0.8357\n",
      "\n",
      "Epoch 00093: val_accuracy improved from 0.83266 to 0.83569, saving model to modelo_perros_gatos.hdf5\n",
      "Epoch 94/100\n",
      "62/62 [==============================] - 19s 313ms/step - loss: 0.3547 - accuracy: 0.8384 - val_loss: 0.4226 - val_accuracy: 0.8185\n",
      "\n",
      "Epoch 00094: val_accuracy did not improve from 0.83569\n",
      "Epoch 95/100\n",
      "62/62 [==============================] - 18s 283ms/step - loss: 0.3497 - accuracy: 0.8440 - val_loss: 0.3949 - val_accuracy: 0.8296\n",
      "\n",
      "Epoch 00095: val_accuracy did not improve from 0.83569\n",
      "Epoch 96/100\n",
      "62/62 [==============================] - 19s 314ms/step - loss: 0.3400 - accuracy: 0.8491 - val_loss: 0.3787 - val_accuracy: 0.8448\n",
      "\n",
      "Epoch 00096: val_accuracy improved from 0.83569 to 0.84476, saving model to modelo_perros_gatos.hdf5\n",
      "Epoch 97/100\n",
      "62/62 [==============================] - 18s 286ms/step - loss: 0.3426 - accuracy: 0.8506 - val_loss: 0.3958 - val_accuracy: 0.8417\n",
      "\n",
      "Epoch 00097: val_accuracy did not improve from 0.84476\n",
      "Epoch 98/100\n",
      "62/62 [==============================] - 19s 309ms/step - loss: 0.3657 - accuracy: 0.8323 - val_loss: 0.3835 - val_accuracy: 0.8367\n",
      "\n",
      "Epoch 00098: val_accuracy did not improve from 0.84476\n",
      "Epoch 99/100\n",
      "62/62 [==============================] - 18s 291ms/step - loss: 0.3467 - accuracy: 0.8415 - val_loss: 0.4046 - val_accuracy: 0.8317\n",
      "\n",
      "Epoch 00099: val_accuracy did not improve from 0.84476\n",
      "Epoch 100/100\n",
      "62/62 [==============================] - 19s 302ms/step - loss: 0.3450 - accuracy: 0.8516 - val_loss: 0.3924 - val_accuracy: 0.8397\n",
      "\n",
      "Epoch 00100: val_accuracy did not improve from 0.84476\n"
     ]
    }
   ],
   "source": [
    "hist = model.fit(train_generator, steps_per_epoch=2000//32,\n",
    "                epochs=100,\n",
    "                validation_data=validation_generator,\n",
    "                 validation_steps= 1000//32,\n",
    "                 callbacks=[checkpoint])"
   ]
  },
  {
   "cell_type": "markdown",
   "id": "5a2ede6f",
   "metadata": {
    "papermill": {
     "duration": 1.985063,
     "end_time": "2022-04-09T20:19:25.297829",
     "exception": false,
     "start_time": "2022-04-09T20:19:23.312766",
     "status": "completed"
    },
    "tags": []
   },
   "source": [
    "## Resultados"
   ]
  },
  {
   "cell_type": "code",
   "execution_count": 9,
   "id": "2084235d",
   "metadata": {
    "execution": {
     "iopub.execute_input": "2022-04-09T20:19:29.858587Z",
     "iopub.status.busy": "2022-04-09T20:19:29.857961Z",
     "iopub.status.idle": "2022-04-09T20:19:30.060791Z",
     "shell.execute_reply": "2022-04-09T20:19:30.061450Z",
     "shell.execute_reply.started": "2022-04-09T19:46:02.067561Z"
    },
    "papermill": {
     "duration": 2.25699,
     "end_time": "2022-04-09T20:19:30.061682",
     "exception": false,
     "start_time": "2022-04-09T20:19:27.804692",
     "status": "completed"
    },
    "tags": []
   },
   "outputs": [
    {
     "data": {
      "image/png": "[encoded data removed]",
      "text/plain": [
       "<Figure size 432x288 with 1 Axes>"
      ]
     },
     "metadata": {
      "needs_background": "light"
     },
     "output_type": "display_data"
    }
   ],
   "source": [
    "import matplotlib.pyplot as plt\n",
    "plt.plot(hist.history['accuracy'], label = 'Train')\n",
    "plt.plot(hist.history['val_accuracy'], label = 'Val')\n",
    "plt.legend()\n",
    "plt.show()"
   ]
  },
  {
   "cell_type": "code",
   "execution_count": 10,
   "id": "3dfa2d50",
   "metadata": {
    "execution": {
     "iopub.execute_input": "2022-04-09T20:19:34.352631Z",
     "iopub.status.busy": "2022-04-09T20:19:34.352055Z",
     "iopub.status.idle": "2022-04-09T20:19:34.666455Z",
     "shell.execute_reply": "2022-04-09T20:19:34.666905Z",
     "shell.execute_reply.started": "2022-04-09T19:46:06.476894Z"
    },
    "papermill": {
     "duration": 2.329092,
     "end_time": "2022-04-09T20:19:34.667059",
     "exception": false,
     "start_time": "2022-04-09T20:19:32.337967",
     "status": "completed"
    },
    "tags": []
   },
   "outputs": [
    {
     "name": "stdout",
     "output_type": "stream",
     "text": [
      "Found 1000 images belonging to 2 classes.\n"
     ]
    }
   ],
   "source": [
    "test_generator = test_datagen.flow_from_directory('../input/cnn-data-sources/cats_and_dogs/test',\n",
    "                                 target_size=(150,150),\n",
    "                                 batch_size=32,\n",
    "                                 class_mode='binary'\n",
    "                                 )"
   ]
  },
  {
   "cell_type": "code",
   "execution_count": 11,
   "id": "9a191ae8",
   "metadata": {
    "execution": {
     "iopub.execute_input": "2022-04-09T20:19:38.734896Z",
     "iopub.status.busy": "2022-04-09T20:19:38.734033Z",
     "iopub.status.idle": "2022-04-09T20:19:49.240210Z",
     "shell.execute_reply": "2022-04-09T20:19:49.239785Z",
     "shell.execute_reply.started": "2022-04-09T19:46:09.187690Z"
    },
    "papermill": {
     "duration": 12.570006,
     "end_time": "2022-04-09T20:19:49.240328",
     "exception": false,
     "start_time": "2022-04-09T20:19:36.670322",
     "status": "completed"
    },
    "tags": []
   },
   "outputs": [
    {
     "name": "stdout",
     "output_type": "stream",
     "text": [
      "32/32 [==============================] - 8s 240ms/step - loss: 0.4394 - accuracy: 0.8160\n"
     ]
    },
    {
     "data": {
      "text/plain": [
       "[0.43939894437789917, 0.8159999847412109]"
      ]
     },
     "execution_count": 11,
     "metadata": {},
     "output_type": "execute_result"
    }
   ],
   "source": [
    "model2 = model \n",
    "model2.load_weights('./modelo_perros_gatos.hdf5')\n",
    "model2.evaluate(test_generator)"
   ]
  }
 ],
 "metadata": {
  "kernelspec": {
   "display_name": "Python 3",
   "language": "python",
   "name": "python3"
  },
  "language_info": {
   "codemirror_mode": {
    "name": "ipython",
    "version": 3
   },
   "file_extension": ".py",
   "mimetype": "text/x-python",
   "name": "python",
   "nbconvert_exporter": "python",
   "pygments_lexer": "ipython3",
   "version": "3.7.12"
  },
  "papermill": {
   "default_parameters": {},
   "duration": 2003.172541,
   "end_time": "2022-04-09T20:19:54.588028",
   "environment_variables": {},
   "exception": null,
   "input_path": "__notebook__.ipynb",
   "output_path": "__notebook__.ipynb",
   "parameters": {},
   "start_time": "2022-04-09T19:46:31.415487",
   "version": "2.3.3"
  }
 },
 "nbformat": 4,
 "nbformat_minor": 5
}
